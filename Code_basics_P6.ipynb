{
 "cells": [
  {
   "cell_type": "markdown",
   "id": "d2a351b6",
   "metadata": {},
   "source": [
    "# Code_bascics P6"
   ]
  },
  {
   "cell_type": "markdown",
   "id": "08a9240f",
   "metadata": {},
   "source": [
    "# Provide Insights to the Marketing Team in Food & Beverage Industry       \n"
   ]
  },
  {
   "cell_type": "markdown",
   "id": "6c08073c",
   "metadata": {},
   "source": [
    "Company : CodeX"
   ]
  },
  {
   "cell_type": "markdown",
   "id": "a2a64dce",
   "metadata": {},
   "source": [
    "Nescssary liabrarires installed"
   ]
  },
  {
   "cell_type": "code",
   "execution_count": 2,
   "id": "4ae6c644",
   "metadata": {},
   "outputs": [],
   "source": [
    "import pandas as pd\n",
    "import numpy as np\n",
    "import matplotlib.pyplot as plt\n",
    "import seaborn as sns \n",
    "%matplotlib inline"
   ]
  },
  {
   "cell_type": "code",
   "execution_count": 3,
   "id": "8cb0f387",
   "metadata": {},
   "outputs": [],
   "source": [
    "dim_cities_df = pd.read_csv('C:\\\\Users\\\\sam\\Documents\\\\C6 Input Files\\\\Dataset\\\\dim_cities.csv')"
   ]
  },
  {
   "cell_type": "code",
   "execution_count": 4,
   "id": "9b9d3737",
   "metadata": {},
   "outputs": [],
   "source": [
    "dim_repondents_df = pd.read_csv('C:\\\\Users\\\\sam\\Documents\\\\C6 Input Files\\\\Dataset\\\\dim_repondents.csv')"
   ]
  },
  {
   "cell_type": "code",
   "execution_count": 5,
   "id": "944138ef",
   "metadata": {},
   "outputs": [],
   "source": [
    "fact_survey_responses_df = pd.read_csv('C:\\\\Users\\\\sam\\Documents\\\\C6 Input Files\\\\Dataset\\\\fact_survey_responses.csv')"
   ]
  },
  {
   "cell_type": "markdown",
   "id": "1317751a",
   "metadata": {},
   "source": [
    "les't see the dataframes"
   ]
  },
  {
   "cell_type": "code",
   "execution_count": 6,
   "id": "b530215f",
   "metadata": {},
   "outputs": [
    {
     "data": {
      "text/html": [
       "<div>\n",
       "<style scoped>\n",
       "    .dataframe tbody tr th:only-of-type {\n",
       "        vertical-align: middle;\n",
       "    }\n",
       "\n",
       "    .dataframe tbody tr th {\n",
       "        vertical-align: top;\n",
       "    }\n",
       "\n",
       "    .dataframe thead th {\n",
       "        text-align: right;\n",
       "    }\n",
       "</style>\n",
       "<table border=\"1\" class=\"dataframe\">\n",
       "  <thead>\n",
       "    <tr style=\"text-align: right;\">\n",
       "      <th></th>\n",
       "      <th>City_ID</th>\n",
       "      <th>City</th>\n",
       "      <th>Tier</th>\n",
       "    </tr>\n",
       "  </thead>\n",
       "  <tbody>\n",
       "    <tr>\n",
       "      <th>0</th>\n",
       "      <td>CT111</td>\n",
       "      <td>Delhi</td>\n",
       "      <td>Tier 1</td>\n",
       "    </tr>\n",
       "    <tr>\n",
       "      <th>1</th>\n",
       "      <td>CT112</td>\n",
       "      <td>Mumbai</td>\n",
       "      <td>Tier 1</td>\n",
       "    </tr>\n",
       "    <tr>\n",
       "      <th>2</th>\n",
       "      <td>CT113</td>\n",
       "      <td>Bangalore</td>\n",
       "      <td>Tier 1</td>\n",
       "    </tr>\n",
       "    <tr>\n",
       "      <th>3</th>\n",
       "      <td>CT114</td>\n",
       "      <td>Chennai</td>\n",
       "      <td>Tier 1</td>\n",
       "    </tr>\n",
       "    <tr>\n",
       "      <th>4</th>\n",
       "      <td>CT115</td>\n",
       "      <td>Kolkata</td>\n",
       "      <td>Tier 2</td>\n",
       "    </tr>\n",
       "  </tbody>\n",
       "</table>\n",
       "</div>"
      ],
      "text/plain": [
       "  City_ID       City    Tier\n",
       "0   CT111      Delhi  Tier 1\n",
       "1   CT112     Mumbai  Tier 1\n",
       "2   CT113  Bangalore  Tier 1\n",
       "3   CT114    Chennai  Tier 1\n",
       "4   CT115    Kolkata  Tier 2"
      ]
     },
     "execution_count": 6,
     "metadata": {},
     "output_type": "execute_result"
    }
   ],
   "source": [
    "dim_cities_df.head()"
   ]
  },
  {
   "cell_type": "code",
   "execution_count": 7,
   "id": "2d21e026",
   "metadata": {},
   "outputs": [
    {
     "data": {
      "text/html": [
       "<div>\n",
       "<style scoped>\n",
       "    .dataframe tbody tr th:only-of-type {\n",
       "        vertical-align: middle;\n",
       "    }\n",
       "\n",
       "    .dataframe tbody tr th {\n",
       "        vertical-align: top;\n",
       "    }\n",
       "\n",
       "    .dataframe thead th {\n",
       "        text-align: right;\n",
       "    }\n",
       "</style>\n",
       "<table border=\"1\" class=\"dataframe\">\n",
       "  <thead>\n",
       "    <tr style=\"text-align: right;\">\n",
       "      <th></th>\n",
       "      <th>Respondent_ID</th>\n",
       "      <th>Name</th>\n",
       "      <th>Age</th>\n",
       "      <th>Gender</th>\n",
       "      <th>City_ID</th>\n",
       "    </tr>\n",
       "  </thead>\n",
       "  <tbody>\n",
       "    <tr>\n",
       "      <th>0</th>\n",
       "      <td>120031</td>\n",
       "      <td>Aniruddh Issac</td>\n",
       "      <td>15-18</td>\n",
       "      <td>Female</td>\n",
       "      <td>CT117</td>\n",
       "    </tr>\n",
       "    <tr>\n",
       "      <th>1</th>\n",
       "      <td>120032</td>\n",
       "      <td>Trisha Rout</td>\n",
       "      <td>19-30</td>\n",
       "      <td>Male</td>\n",
       "      <td>CT118</td>\n",
       "    </tr>\n",
       "    <tr>\n",
       "      <th>2</th>\n",
       "      <td>120033</td>\n",
       "      <td>Yuvraj  Virk</td>\n",
       "      <td>15-18</td>\n",
       "      <td>Male</td>\n",
       "      <td>CT116</td>\n",
       "    </tr>\n",
       "    <tr>\n",
       "      <th>3</th>\n",
       "      <td>120034</td>\n",
       "      <td>Pranay Chand</td>\n",
       "      <td>31-45</td>\n",
       "      <td>Female</td>\n",
       "      <td>CT113</td>\n",
       "    </tr>\n",
       "    <tr>\n",
       "      <th>4</th>\n",
       "      <td>120035</td>\n",
       "      <td>Mohanlal Joshi</td>\n",
       "      <td>19-30</td>\n",
       "      <td>Female</td>\n",
       "      <td>CT120</td>\n",
       "    </tr>\n",
       "  </tbody>\n",
       "</table>\n",
       "</div>"
      ],
      "text/plain": [
       "   Respondent_ID            Name    Age  Gender City_ID\n",
       "0         120031  Aniruddh Issac  15-18  Female   CT117\n",
       "1         120032     Trisha Rout  19-30    Male   CT118\n",
       "2         120033    Yuvraj  Virk  15-18    Male   CT116\n",
       "3         120034    Pranay Chand  31-45  Female   CT113\n",
       "4         120035  Mohanlal Joshi  19-30  Female   CT120"
      ]
     },
     "execution_count": 7,
     "metadata": {},
     "output_type": "execute_result"
    }
   ],
   "source": [
    "dim_repondents_df.head()"
   ]
  },
  {
   "cell_type": "code",
   "execution_count": 8,
   "id": "f04a62d2",
   "metadata": {},
   "outputs": [
    {
     "data": {
      "text/html": [
       "<div>\n",
       "<style scoped>\n",
       "    .dataframe tbody tr th:only-of-type {\n",
       "        vertical-align: middle;\n",
       "    }\n",
       "\n",
       "    .dataframe tbody tr th {\n",
       "        vertical-align: top;\n",
       "    }\n",
       "\n",
       "    .dataframe thead th {\n",
       "        text-align: right;\n",
       "    }\n",
       "</style>\n",
       "<table border=\"1\" class=\"dataframe\">\n",
       "  <thead>\n",
       "    <tr style=\"text-align: right;\">\n",
       "      <th></th>\n",
       "      <th>Response_ID</th>\n",
       "      <th>Respondent_ID</th>\n",
       "      <th>Consume_frequency</th>\n",
       "      <th>Consume_time</th>\n",
       "      <th>Consume_reason</th>\n",
       "      <th>Heard_before</th>\n",
       "      <th>Brand_perception</th>\n",
       "      <th>General_perception</th>\n",
       "      <th>Tried_before</th>\n",
       "      <th>Taste_experience</th>\n",
       "      <th>...</th>\n",
       "      <th>Improvements_desired</th>\n",
       "      <th>Ingredients_expected</th>\n",
       "      <th>Health_concerns</th>\n",
       "      <th>Interest_in_natural_or_organic</th>\n",
       "      <th>Marketing_channels</th>\n",
       "      <th>Packaging_preference</th>\n",
       "      <th>Limited_edition_packaging</th>\n",
       "      <th>Price_range</th>\n",
       "      <th>Purchase_location</th>\n",
       "      <th>Typical_consumption_situations</th>\n",
       "    </tr>\n",
       "  </thead>\n",
       "  <tbody>\n",
       "    <tr>\n",
       "      <th>0</th>\n",
       "      <td>103001</td>\n",
       "      <td>120031</td>\n",
       "      <td>2-3 times a week</td>\n",
       "      <td>To stay awake during work/study</td>\n",
       "      <td>Increased energy and focus</td>\n",
       "      <td>Yes</td>\n",
       "      <td>Neutral</td>\n",
       "      <td>Not sure</td>\n",
       "      <td>No</td>\n",
       "      <td>5</td>\n",
       "      <td>...</td>\n",
       "      <td>Reduced sugar content</td>\n",
       "      <td>Guarana</td>\n",
       "      <td>No</td>\n",
       "      <td>Yes</td>\n",
       "      <td>TV commercials</td>\n",
       "      <td>Compact and portable cans</td>\n",
       "      <td>Yes</td>\n",
       "      <td>50-99</td>\n",
       "      <td>Supermarkets</td>\n",
       "      <td>Studying/working late</td>\n",
       "    </tr>\n",
       "    <tr>\n",
       "      <th>1</th>\n",
       "      <td>103002</td>\n",
       "      <td>120032</td>\n",
       "      <td>2-3 times a month</td>\n",
       "      <td>Throughout the day</td>\n",
       "      <td>To boost performance</td>\n",
       "      <td>No</td>\n",
       "      <td>Neutral</td>\n",
       "      <td>Not sure</td>\n",
       "      <td>No</td>\n",
       "      <td>5</td>\n",
       "      <td>...</td>\n",
       "      <td>More natural ingredients</td>\n",
       "      <td>Caffeine</td>\n",
       "      <td>Yes</td>\n",
       "      <td>Not Sure</td>\n",
       "      <td>Print media</td>\n",
       "      <td>Compact and portable cans</td>\n",
       "      <td>No</td>\n",
       "      <td>50-99</td>\n",
       "      <td>Supermarkets</td>\n",
       "      <td>Sports/exercise</td>\n",
       "    </tr>\n",
       "    <tr>\n",
       "      <th>2</th>\n",
       "      <td>103003</td>\n",
       "      <td>120033</td>\n",
       "      <td>Rarely</td>\n",
       "      <td>Before exercise</td>\n",
       "      <td>Increased energy and focus</td>\n",
       "      <td>No</td>\n",
       "      <td>Neutral</td>\n",
       "      <td>Not sure</td>\n",
       "      <td>No</td>\n",
       "      <td>2</td>\n",
       "      <td>...</td>\n",
       "      <td>More natural ingredients</td>\n",
       "      <td>Caffeine</td>\n",
       "      <td>No</td>\n",
       "      <td>Yes</td>\n",
       "      <td>Online ads</td>\n",
       "      <td>Innovative bottle design</td>\n",
       "      <td>Not Sure</td>\n",
       "      <td>100-150</td>\n",
       "      <td>Supermarkets</td>\n",
       "      <td>Studying/working late</td>\n",
       "    </tr>\n",
       "    <tr>\n",
       "      <th>3</th>\n",
       "      <td>103004</td>\n",
       "      <td>120034</td>\n",
       "      <td>2-3 times a week</td>\n",
       "      <td>To stay awake during work/study</td>\n",
       "      <td>To boost performance</td>\n",
       "      <td>No</td>\n",
       "      <td>Positive</td>\n",
       "      <td>Dangerous</td>\n",
       "      <td>Yes</td>\n",
       "      <td>5</td>\n",
       "      <td>...</td>\n",
       "      <td>Other</td>\n",
       "      <td>Caffeine</td>\n",
       "      <td>No</td>\n",
       "      <td>Yes</td>\n",
       "      <td>Online ads</td>\n",
       "      <td>Compact and portable cans</td>\n",
       "      <td>No</td>\n",
       "      <td>Above 150</td>\n",
       "      <td>Supermarkets</td>\n",
       "      <td>Sports/exercise</td>\n",
       "    </tr>\n",
       "    <tr>\n",
       "      <th>4</th>\n",
       "      <td>103005</td>\n",
       "      <td>120035</td>\n",
       "      <td>Daily</td>\n",
       "      <td>To stay awake during work/study</td>\n",
       "      <td>Increased energy and focus</td>\n",
       "      <td>Yes</td>\n",
       "      <td>Neutral</td>\n",
       "      <td>Effective</td>\n",
       "      <td>Yes</td>\n",
       "      <td>5</td>\n",
       "      <td>...</td>\n",
       "      <td>More natural ingredients</td>\n",
       "      <td>Caffeine</td>\n",
       "      <td>Yes</td>\n",
       "      <td>Yes</td>\n",
       "      <td>Online ads</td>\n",
       "      <td>Compact and portable cans</td>\n",
       "      <td>Yes</td>\n",
       "      <td>100-150</td>\n",
       "      <td>Online retailers</td>\n",
       "      <td>Studying/working late</td>\n",
       "    </tr>\n",
       "  </tbody>\n",
       "</table>\n",
       "<p>5 rows × 23 columns</p>\n",
       "</div>"
      ],
      "text/plain": [
       "   Response_ID  Respondent_ID  Consume_frequency  \\\n",
       "0       103001         120031   2-3 times a week   \n",
       "1       103002         120032  2-3 times a month   \n",
       "2       103003         120033             Rarely   \n",
       "3       103004         120034   2-3 times a week   \n",
       "4       103005         120035              Daily   \n",
       "\n",
       "                      Consume_time              Consume_reason Heard_before  \\\n",
       "0  To stay awake during work/study  Increased energy and focus          Yes   \n",
       "1               Throughout the day        To boost performance           No   \n",
       "2                  Before exercise  Increased energy and focus           No   \n",
       "3  To stay awake during work/study        To boost performance           No   \n",
       "4  To stay awake during work/study  Increased energy and focus          Yes   \n",
       "\n",
       "  Brand_perception General_perception Tried_before  Taste_experience  ...  \\\n",
       "0          Neutral           Not sure           No                 5  ...   \n",
       "1          Neutral           Not sure           No                 5  ...   \n",
       "2          Neutral           Not sure           No                 2  ...   \n",
       "3         Positive          Dangerous          Yes                 5  ...   \n",
       "4          Neutral          Effective          Yes                 5  ...   \n",
       "\n",
       "       Improvements_desired Ingredients_expected Health_concerns  \\\n",
       "0     Reduced sugar content              Guarana              No   \n",
       "1  More natural ingredients             Caffeine             Yes   \n",
       "2  More natural ingredients             Caffeine              No   \n",
       "3                     Other             Caffeine              No   \n",
       "4  More natural ingredients             Caffeine             Yes   \n",
       "\n",
       "  Interest_in_natural_or_organic Marketing_channels  \\\n",
       "0                            Yes     TV commercials   \n",
       "1                       Not Sure        Print media   \n",
       "2                            Yes         Online ads   \n",
       "3                            Yes         Online ads   \n",
       "4                            Yes         Online ads   \n",
       "\n",
       "        Packaging_preference Limited_edition_packaging Price_range  \\\n",
       "0  Compact and portable cans                       Yes       50-99   \n",
       "1  Compact and portable cans                        No       50-99   \n",
       "2   Innovative bottle design                  Not Sure     100-150   \n",
       "3  Compact and portable cans                        No   Above 150   \n",
       "4  Compact and portable cans                       Yes     100-150   \n",
       "\n",
       "  Purchase_location Typical_consumption_situations  \n",
       "0      Supermarkets          Studying/working late  \n",
       "1      Supermarkets                Sports/exercise  \n",
       "2      Supermarkets          Studying/working late  \n",
       "3      Supermarkets                Sports/exercise  \n",
       "4  Online retailers          Studying/working late  \n",
       "\n",
       "[5 rows x 23 columns]"
      ]
     },
     "execution_count": 8,
     "metadata": {},
     "output_type": "execute_result"
    }
   ],
   "source": [
    "fact_survey_responses_df.head()"
   ]
  },
  {
   "cell_type": "markdown",
   "id": "3e5e994e",
   "metadata": {},
   "source": [
    "let's see is there any null values or missing values and info of the data"
   ]
  },
  {
   "cell_type": "code",
   "execution_count": 9,
   "id": "15337311",
   "metadata": {},
   "outputs": [
    {
     "name": "stdout",
     "output_type": "stream",
     "text": [
      "<class 'pandas.core.frame.DataFrame'>\n",
      "RangeIndex: 10 entries, 0 to 9\n",
      "Data columns (total 3 columns):\n",
      " #   Column   Non-Null Count  Dtype \n",
      "---  ------   --------------  ----- \n",
      " 0   City_ID  10 non-null     object\n",
      " 1   City     10 non-null     object\n",
      " 2   Tier     10 non-null     object\n",
      "dtypes: object(3)\n",
      "memory usage: 368.0+ bytes\n"
     ]
    }
   ],
   "source": [
    "dim_cities_df.info()"
   ]
  },
  {
   "cell_type": "code",
   "execution_count": 10,
   "id": "4e22de0d",
   "metadata": {},
   "outputs": [
    {
     "name": "stdout",
     "output_type": "stream",
     "text": [
      "<class 'pandas.core.frame.DataFrame'>\n",
      "RangeIndex: 10000 entries, 0 to 9999\n",
      "Data columns (total 5 columns):\n",
      " #   Column         Non-Null Count  Dtype \n",
      "---  ------         --------------  ----- \n",
      " 0   Respondent_ID  10000 non-null  int64 \n",
      " 1   Name           10000 non-null  object\n",
      " 2   Age            10000 non-null  object\n",
      " 3   Gender         10000 non-null  object\n",
      " 4   City_ID        10000 non-null  object\n",
      "dtypes: int64(1), object(4)\n",
      "memory usage: 390.8+ KB\n"
     ]
    }
   ],
   "source": [
    "dim_repondents_df.info()"
   ]
  },
  {
   "cell_type": "code",
   "execution_count": 11,
   "id": "aafdac5a",
   "metadata": {},
   "outputs": [
    {
     "name": "stdout",
     "output_type": "stream",
     "text": [
      "<class 'pandas.core.frame.DataFrame'>\n",
      "RangeIndex: 10000 entries, 0 to 9999\n",
      "Data columns (total 23 columns):\n",
      " #   Column                          Non-Null Count  Dtype \n",
      "---  ------                          --------------  ----- \n",
      " 0   Response_ID                     10000 non-null  int64 \n",
      " 1   Respondent_ID                   10000 non-null  int64 \n",
      " 2   Consume_frequency               10000 non-null  object\n",
      " 3   Consume_time                    10000 non-null  object\n",
      " 4   Consume_reason                  10000 non-null  object\n",
      " 5   Heard_before                    10000 non-null  object\n",
      " 6   Brand_perception                10000 non-null  object\n",
      " 7   General_perception              10000 non-null  object\n",
      " 8   Tried_before                    10000 non-null  object\n",
      " 9   Taste_experience                10000 non-null  int64 \n",
      " 10  Reasons_preventing_trying       10000 non-null  object\n",
      " 11  Current_brands                  10000 non-null  object\n",
      " 12  Reasons_for_choosing_brands     10000 non-null  object\n",
      " 13  Improvements_desired            10000 non-null  object\n",
      " 14  Ingredients_expected            10000 non-null  object\n",
      " 15  Health_concerns                 10000 non-null  object\n",
      " 16  Interest_in_natural_or_organic  10000 non-null  object\n",
      " 17  Marketing_channels              10000 non-null  object\n",
      " 18  Packaging_preference            10000 non-null  object\n",
      " 19  Limited_edition_packaging       10000 non-null  object\n",
      " 20  Price_range                     10000 non-null  object\n",
      " 21  Purchase_location               10000 non-null  object\n",
      " 22  Typical_consumption_situations  10000 non-null  object\n",
      "dtypes: int64(3), object(20)\n",
      "memory usage: 1.8+ MB\n"
     ]
    }
   ],
   "source": [
    "fact_survey_responses_df.info()"
   ]
  },
  {
   "cell_type": "code",
   "execution_count": 12,
   "id": "b3ade6d2",
   "metadata": {},
   "outputs": [
    {
     "data": {
      "text/plain": [
       "False"
      ]
     },
     "execution_count": 12,
     "metadata": {},
     "output_type": "execute_result"
    }
   ],
   "source": [
    "fact_survey_responses_df.isnull().sum().any()"
   ]
  },
  {
   "cell_type": "markdown",
   "id": "1fcb375c",
   "metadata": {},
   "source": [
    "### Data cleaning "
   ]
  },
  {
   "cell_type": "markdown",
   "id": "3f3be058",
   "metadata": {},
   "source": [
    "### if heard_before is no then Tried_before has to be no\n",
    "\n",
    "### if Tried_before is no then Taste_experience to be Not_applicable\n",
    "\n",
    "### if Tried_before is no then Reasons_preventing_trying has to be Not_applicable\n",
    "\n"
   ]
  },
  {
   "cell_type": "code",
   "execution_count": 13,
   "id": "2978ace1",
   "metadata": {},
   "outputs": [],
   "source": [
    "fact_survey_responses_df.loc[fact_survey_responses_df['Heard_before'] == 'No', 'Tried_before'] = 'No'\n",
    "\n",
    "fact_survey_responses_df.loc[fact_survey_responses_df['Tried_before'] == 'No', 'Taste_experience'] = 'NA'\n",
    "\n",
    "fact_survey_responses_df.loc[fact_survey_responses_df['Tried_before'] == 'Yes', 'Reasons_preventing_trying'] = 'NA'\n"
   ]
  },
  {
   "cell_type": "code",
   "execution_count": 14,
   "id": "517bc4d3",
   "metadata": {},
   "outputs": [
    {
     "data": {
      "text/html": [
       "<div>\n",
       "<style scoped>\n",
       "    .dataframe tbody tr th:only-of-type {\n",
       "        vertical-align: middle;\n",
       "    }\n",
       "\n",
       "    .dataframe tbody tr th {\n",
       "        vertical-align: top;\n",
       "    }\n",
       "\n",
       "    .dataframe thead th {\n",
       "        text-align: right;\n",
       "    }\n",
       "</style>\n",
       "<table border=\"1\" class=\"dataframe\">\n",
       "  <thead>\n",
       "    <tr style=\"text-align: right;\">\n",
       "      <th></th>\n",
       "      <th>Response_ID</th>\n",
       "      <th>Respondent_ID</th>\n",
       "      <th>Consume_frequency</th>\n",
       "      <th>Consume_time</th>\n",
       "      <th>Consume_reason</th>\n",
       "      <th>Heard_before</th>\n",
       "      <th>Brand_perception</th>\n",
       "      <th>General_perception</th>\n",
       "      <th>Tried_before</th>\n",
       "      <th>Taste_experience</th>\n",
       "      <th>...</th>\n",
       "      <th>Improvements_desired</th>\n",
       "      <th>Ingredients_expected</th>\n",
       "      <th>Health_concerns</th>\n",
       "      <th>Interest_in_natural_or_organic</th>\n",
       "      <th>Marketing_channels</th>\n",
       "      <th>Packaging_preference</th>\n",
       "      <th>Limited_edition_packaging</th>\n",
       "      <th>Price_range</th>\n",
       "      <th>Purchase_location</th>\n",
       "      <th>Typical_consumption_situations</th>\n",
       "    </tr>\n",
       "  </thead>\n",
       "  <tbody>\n",
       "    <tr>\n",
       "      <th>0</th>\n",
       "      <td>103001</td>\n",
       "      <td>120031</td>\n",
       "      <td>2-3 times a week</td>\n",
       "      <td>To stay awake during work/study</td>\n",
       "      <td>Increased energy and focus</td>\n",
       "      <td>Yes</td>\n",
       "      <td>Neutral</td>\n",
       "      <td>Not sure</td>\n",
       "      <td>No</td>\n",
       "      <td>NA</td>\n",
       "      <td>...</td>\n",
       "      <td>Reduced sugar content</td>\n",
       "      <td>Guarana</td>\n",
       "      <td>No</td>\n",
       "      <td>Yes</td>\n",
       "      <td>TV commercials</td>\n",
       "      <td>Compact and portable cans</td>\n",
       "      <td>Yes</td>\n",
       "      <td>50-99</td>\n",
       "      <td>Supermarkets</td>\n",
       "      <td>Studying/working late</td>\n",
       "    </tr>\n",
       "    <tr>\n",
       "      <th>1</th>\n",
       "      <td>103002</td>\n",
       "      <td>120032</td>\n",
       "      <td>2-3 times a month</td>\n",
       "      <td>Throughout the day</td>\n",
       "      <td>To boost performance</td>\n",
       "      <td>No</td>\n",
       "      <td>Neutral</td>\n",
       "      <td>Not sure</td>\n",
       "      <td>No</td>\n",
       "      <td>NA</td>\n",
       "      <td>...</td>\n",
       "      <td>More natural ingredients</td>\n",
       "      <td>Caffeine</td>\n",
       "      <td>Yes</td>\n",
       "      <td>Not Sure</td>\n",
       "      <td>Print media</td>\n",
       "      <td>Compact and portable cans</td>\n",
       "      <td>No</td>\n",
       "      <td>50-99</td>\n",
       "      <td>Supermarkets</td>\n",
       "      <td>Sports/exercise</td>\n",
       "    </tr>\n",
       "    <tr>\n",
       "      <th>2</th>\n",
       "      <td>103003</td>\n",
       "      <td>120033</td>\n",
       "      <td>Rarely</td>\n",
       "      <td>Before exercise</td>\n",
       "      <td>Increased energy and focus</td>\n",
       "      <td>No</td>\n",
       "      <td>Neutral</td>\n",
       "      <td>Not sure</td>\n",
       "      <td>No</td>\n",
       "      <td>NA</td>\n",
       "      <td>...</td>\n",
       "      <td>More natural ingredients</td>\n",
       "      <td>Caffeine</td>\n",
       "      <td>No</td>\n",
       "      <td>Yes</td>\n",
       "      <td>Online ads</td>\n",
       "      <td>Innovative bottle design</td>\n",
       "      <td>Not Sure</td>\n",
       "      <td>100-150</td>\n",
       "      <td>Supermarkets</td>\n",
       "      <td>Studying/working late</td>\n",
       "    </tr>\n",
       "    <tr>\n",
       "      <th>3</th>\n",
       "      <td>103004</td>\n",
       "      <td>120034</td>\n",
       "      <td>2-3 times a week</td>\n",
       "      <td>To stay awake during work/study</td>\n",
       "      <td>To boost performance</td>\n",
       "      <td>No</td>\n",
       "      <td>Positive</td>\n",
       "      <td>Dangerous</td>\n",
       "      <td>No</td>\n",
       "      <td>NA</td>\n",
       "      <td>...</td>\n",
       "      <td>Other</td>\n",
       "      <td>Caffeine</td>\n",
       "      <td>No</td>\n",
       "      <td>Yes</td>\n",
       "      <td>Online ads</td>\n",
       "      <td>Compact and portable cans</td>\n",
       "      <td>No</td>\n",
       "      <td>Above 150</td>\n",
       "      <td>Supermarkets</td>\n",
       "      <td>Sports/exercise</td>\n",
       "    </tr>\n",
       "    <tr>\n",
       "      <th>4</th>\n",
       "      <td>103005</td>\n",
       "      <td>120035</td>\n",
       "      <td>Daily</td>\n",
       "      <td>To stay awake during work/study</td>\n",
       "      <td>Increased energy and focus</td>\n",
       "      <td>Yes</td>\n",
       "      <td>Neutral</td>\n",
       "      <td>Effective</td>\n",
       "      <td>Yes</td>\n",
       "      <td>5</td>\n",
       "      <td>...</td>\n",
       "      <td>More natural ingredients</td>\n",
       "      <td>Caffeine</td>\n",
       "      <td>Yes</td>\n",
       "      <td>Yes</td>\n",
       "      <td>Online ads</td>\n",
       "      <td>Compact and portable cans</td>\n",
       "      <td>Yes</td>\n",
       "      <td>100-150</td>\n",
       "      <td>Online retailers</td>\n",
       "      <td>Studying/working late</td>\n",
       "    </tr>\n",
       "    <tr>\n",
       "      <th>...</th>\n",
       "      <td>...</td>\n",
       "      <td>...</td>\n",
       "      <td>...</td>\n",
       "      <td>...</td>\n",
       "      <td>...</td>\n",
       "      <td>...</td>\n",
       "      <td>...</td>\n",
       "      <td>...</td>\n",
       "      <td>...</td>\n",
       "      <td>...</td>\n",
       "      <td>...</td>\n",
       "      <td>...</td>\n",
       "      <td>...</td>\n",
       "      <td>...</td>\n",
       "      <td>...</td>\n",
       "      <td>...</td>\n",
       "      <td>...</td>\n",
       "      <td>...</td>\n",
       "      <td>...</td>\n",
       "      <td>...</td>\n",
       "      <td>...</td>\n",
       "    </tr>\n",
       "    <tr>\n",
       "      <th>9995</th>\n",
       "      <td>112996</td>\n",
       "      <td>130026</td>\n",
       "      <td>Daily</td>\n",
       "      <td>Before exercise</td>\n",
       "      <td>To enhance sports performance</td>\n",
       "      <td>Yes</td>\n",
       "      <td>Neutral</td>\n",
       "      <td>Not sure</td>\n",
       "      <td>No</td>\n",
       "      <td>NA</td>\n",
       "      <td>...</td>\n",
       "      <td>Other</td>\n",
       "      <td>Caffeine</td>\n",
       "      <td>No</td>\n",
       "      <td>No</td>\n",
       "      <td>Print media</td>\n",
       "      <td>Compact and portable cans</td>\n",
       "      <td>Yes</td>\n",
       "      <td>100-150</td>\n",
       "      <td>Supermarkets</td>\n",
       "      <td>Studying/working late</td>\n",
       "    </tr>\n",
       "    <tr>\n",
       "      <th>9996</th>\n",
       "      <td>112997</td>\n",
       "      <td>130027</td>\n",
       "      <td>Daily</td>\n",
       "      <td>To stay awake during work/study</td>\n",
       "      <td>To combat fatigue</td>\n",
       "      <td>No</td>\n",
       "      <td>Positive</td>\n",
       "      <td>Healthy</td>\n",
       "      <td>No</td>\n",
       "      <td>NA</td>\n",
       "      <td>...</td>\n",
       "      <td>More natural ingredients</td>\n",
       "      <td>Caffeine</td>\n",
       "      <td>No</td>\n",
       "      <td>No</td>\n",
       "      <td>TV commercials</td>\n",
       "      <td>Other</td>\n",
       "      <td>Yes</td>\n",
       "      <td>50-99</td>\n",
       "      <td>Online retailers</td>\n",
       "      <td>Social outings/parties</td>\n",
       "    </tr>\n",
       "    <tr>\n",
       "      <th>9997</th>\n",
       "      <td>112998</td>\n",
       "      <td>130028</td>\n",
       "      <td>Daily</td>\n",
       "      <td>Before exercise</td>\n",
       "      <td>Increased energy and focus</td>\n",
       "      <td>Yes</td>\n",
       "      <td>Positive</td>\n",
       "      <td>Effective</td>\n",
       "      <td>No</td>\n",
       "      <td>NA</td>\n",
       "      <td>...</td>\n",
       "      <td>Other</td>\n",
       "      <td>Caffeine</td>\n",
       "      <td>Yes</td>\n",
       "      <td>No</td>\n",
       "      <td>Outdoor billboards</td>\n",
       "      <td>Compact and portable cans</td>\n",
       "      <td>No</td>\n",
       "      <td>100-150</td>\n",
       "      <td>Other</td>\n",
       "      <td>Sports/exercise</td>\n",
       "    </tr>\n",
       "    <tr>\n",
       "      <th>9998</th>\n",
       "      <td>112999</td>\n",
       "      <td>130029</td>\n",
       "      <td>2-3 times a week</td>\n",
       "      <td>To stay awake during work/study</td>\n",
       "      <td>Increased energy and focus</td>\n",
       "      <td>No</td>\n",
       "      <td>Positive</td>\n",
       "      <td>Healthy</td>\n",
       "      <td>No</td>\n",
       "      <td>NA</td>\n",
       "      <td>...</td>\n",
       "      <td>Other</td>\n",
       "      <td>Sugar</td>\n",
       "      <td>Yes</td>\n",
       "      <td>Yes</td>\n",
       "      <td>Online ads</td>\n",
       "      <td>Compact and portable cans</td>\n",
       "      <td>Not Sure</td>\n",
       "      <td>50-99</td>\n",
       "      <td>Supermarkets</td>\n",
       "      <td>Studying/working late</td>\n",
       "    </tr>\n",
       "    <tr>\n",
       "      <th>9999</th>\n",
       "      <td>113000</td>\n",
       "      <td>130030</td>\n",
       "      <td>Daily</td>\n",
       "      <td>For mental alertness</td>\n",
       "      <td>Other</td>\n",
       "      <td>Yes</td>\n",
       "      <td>Positive</td>\n",
       "      <td>Effective</td>\n",
       "      <td>No</td>\n",
       "      <td>NA</td>\n",
       "      <td>...</td>\n",
       "      <td>Wider range of flavors</td>\n",
       "      <td>Caffeine</td>\n",
       "      <td>Yes</td>\n",
       "      <td>Not Sure</td>\n",
       "      <td>Print media</td>\n",
       "      <td>Eco-friendly design</td>\n",
       "      <td>No</td>\n",
       "      <td>50-99</td>\n",
       "      <td>Supermarkets</td>\n",
       "      <td>Sports/exercise</td>\n",
       "    </tr>\n",
       "  </tbody>\n",
       "</table>\n",
       "<p>10000 rows × 23 columns</p>\n",
       "</div>"
      ],
      "text/plain": [
       "      Response_ID  Respondent_ID  Consume_frequency  \\\n",
       "0          103001         120031   2-3 times a week   \n",
       "1          103002         120032  2-3 times a month   \n",
       "2          103003         120033             Rarely   \n",
       "3          103004         120034   2-3 times a week   \n",
       "4          103005         120035              Daily   \n",
       "...           ...            ...                ...   \n",
       "9995       112996         130026              Daily   \n",
       "9996       112997         130027              Daily   \n",
       "9997       112998         130028              Daily   \n",
       "9998       112999         130029   2-3 times a week   \n",
       "9999       113000         130030              Daily   \n",
       "\n",
       "                         Consume_time                 Consume_reason  \\\n",
       "0     To stay awake during work/study     Increased energy and focus   \n",
       "1                  Throughout the day           To boost performance   \n",
       "2                     Before exercise     Increased energy and focus   \n",
       "3     To stay awake during work/study           To boost performance   \n",
       "4     To stay awake during work/study     Increased energy and focus   \n",
       "...                               ...                            ...   \n",
       "9995                  Before exercise  To enhance sports performance   \n",
       "9996  To stay awake during work/study              To combat fatigue   \n",
       "9997                  Before exercise     Increased energy and focus   \n",
       "9998  To stay awake during work/study     Increased energy and focus   \n",
       "9999             For mental alertness                          Other   \n",
       "\n",
       "     Heard_before Brand_perception General_perception Tried_before  \\\n",
       "0             Yes          Neutral           Not sure           No   \n",
       "1              No          Neutral           Not sure           No   \n",
       "2              No          Neutral           Not sure           No   \n",
       "3              No         Positive          Dangerous           No   \n",
       "4             Yes          Neutral          Effective          Yes   \n",
       "...           ...              ...                ...          ...   \n",
       "9995          Yes          Neutral           Not sure           No   \n",
       "9996           No         Positive            Healthy           No   \n",
       "9997          Yes         Positive          Effective           No   \n",
       "9998           No         Positive            Healthy           No   \n",
       "9999          Yes         Positive          Effective           No   \n",
       "\n",
       "     Taste_experience  ...      Improvements_desired Ingredients_expected  \\\n",
       "0                  NA  ...     Reduced sugar content              Guarana   \n",
       "1                  NA  ...  More natural ingredients             Caffeine   \n",
       "2                  NA  ...  More natural ingredients             Caffeine   \n",
       "3                  NA  ...                     Other             Caffeine   \n",
       "4                   5  ...  More natural ingredients             Caffeine   \n",
       "...               ...  ...                       ...                  ...   \n",
       "9995               NA  ...                     Other             Caffeine   \n",
       "9996               NA  ...  More natural ingredients             Caffeine   \n",
       "9997               NA  ...                     Other             Caffeine   \n",
       "9998               NA  ...                     Other                Sugar   \n",
       "9999               NA  ...    Wider range of flavors             Caffeine   \n",
       "\n",
       "     Health_concerns Interest_in_natural_or_organic  Marketing_channels  \\\n",
       "0                 No                            Yes      TV commercials   \n",
       "1                Yes                       Not Sure         Print media   \n",
       "2                 No                            Yes          Online ads   \n",
       "3                 No                            Yes          Online ads   \n",
       "4                Yes                            Yes          Online ads   \n",
       "...              ...                            ...                 ...   \n",
       "9995              No                             No         Print media   \n",
       "9996              No                             No      TV commercials   \n",
       "9997             Yes                             No  Outdoor billboards   \n",
       "9998             Yes                            Yes          Online ads   \n",
       "9999             Yes                       Not Sure         Print media   \n",
       "\n",
       "           Packaging_preference Limited_edition_packaging Price_range  \\\n",
       "0     Compact and portable cans                       Yes       50-99   \n",
       "1     Compact and portable cans                        No       50-99   \n",
       "2      Innovative bottle design                  Not Sure     100-150   \n",
       "3     Compact and portable cans                        No   Above 150   \n",
       "4     Compact and portable cans                       Yes     100-150   \n",
       "...                         ...                       ...         ...   \n",
       "9995  Compact and portable cans                       Yes     100-150   \n",
       "9996                      Other                       Yes       50-99   \n",
       "9997  Compact and portable cans                        No     100-150   \n",
       "9998  Compact and portable cans                  Not Sure       50-99   \n",
       "9999        Eco-friendly design                        No       50-99   \n",
       "\n",
       "     Purchase_location Typical_consumption_situations  \n",
       "0         Supermarkets          Studying/working late  \n",
       "1         Supermarkets                Sports/exercise  \n",
       "2         Supermarkets          Studying/working late  \n",
       "3         Supermarkets                Sports/exercise  \n",
       "4     Online retailers          Studying/working late  \n",
       "...                ...                            ...  \n",
       "9995      Supermarkets          Studying/working late  \n",
       "9996  Online retailers         Social outings/parties  \n",
       "9997             Other                Sports/exercise  \n",
       "9998      Supermarkets          Studying/working late  \n",
       "9999      Supermarkets                Sports/exercise  \n",
       "\n",
       "[10000 rows x 23 columns]"
      ]
     },
     "execution_count": 14,
     "metadata": {},
     "output_type": "execute_result"
    }
   ],
   "source": [
    "fact_survey_responses_df"
   ]
  },
  {
   "cell_type": "code",
   "execution_count": null,
   "id": "22e46284",
   "metadata": {},
   "outputs": [],
   "source": []
  },
  {
   "cell_type": "markdown",
   "id": "db1937a0",
   "metadata": {},
   "source": [
    "##### since our data is clean and no null object is present ,so let's start to analyze our data and answer the business questions"
   ]
  },
  {
   "cell_type": "markdown",
   "id": "dc188df6",
   "metadata": {},
   "source": [
    "### 1 : Demographic Insights"
   ]
  },
  {
   "cell_type": "markdown",
   "id": "f4752b61",
   "metadata": {},
   "source": [
    "### a. Who prefers energy drink more? (male/female/non-binary?)"
   ]
  },
  {
   "cell_type": "markdown",
   "id": "b5397f9e",
   "metadata": {},
   "source": [
    "### since we need to join the two tables we can use pd.merge function in pandas to do this operation, like we do joins in sql for  for combining tables"
   ]
  },
  {
   "cell_type": "code",
   "execution_count": 15,
   "id": "03cd897d",
   "metadata": {},
   "outputs": [
    {
     "data": {
      "text/html": [
       "<div>\n",
       "<style scoped>\n",
       "    .dataframe tbody tr th:only-of-type {\n",
       "        vertical-align: middle;\n",
       "    }\n",
       "\n",
       "    .dataframe tbody tr th {\n",
       "        vertical-align: top;\n",
       "    }\n",
       "\n",
       "    .dataframe thead th {\n",
       "        text-align: right;\n",
       "    }\n",
       "</style>\n",
       "<table border=\"1\" class=\"dataframe\">\n",
       "  <thead>\n",
       "    <tr style=\"text-align: right;\">\n",
       "      <th></th>\n",
       "      <th>Consume_frequency</th>\n",
       "    </tr>\n",
       "    <tr>\n",
       "      <th>Gender</th>\n",
       "      <th></th>\n",
       "    </tr>\n",
       "  </thead>\n",
       "  <tbody>\n",
       "    <tr>\n",
       "      <th>Female</th>\n",
       "      <td>3455</td>\n",
       "    </tr>\n",
       "    <tr>\n",
       "      <th>Male</th>\n",
       "      <td>6038</td>\n",
       "    </tr>\n",
       "    <tr>\n",
       "      <th>Non-binary</th>\n",
       "      <td>507</td>\n",
       "    </tr>\n",
       "  </tbody>\n",
       "</table>\n",
       "</div>"
      ],
      "text/plain": [
       "            Consume_frequency\n",
       "Gender                       \n",
       "Female                   3455\n",
       "Male                     6038\n",
       "Non-binary                507"
      ]
     },
     "execution_count": 15,
     "metadata": {},
     "output_type": "execute_result"
    }
   ],
   "source": [
    "ndf = dim_repondents_df.merge(fact_survey_responses_df,on='Respondent_ID')\n",
    "ndf = ndf[['Gender','Consume_frequency']]\n",
    "Gender_group_data = ndf.groupby('Gender')[['Consume_frequency']].count()\n",
    "Gender_group_data"
   ]
  },
  {
   "cell_type": "code",
   "execution_count": 130,
   "id": "6b4cebe1",
   "metadata": {},
   "outputs": [
    {
     "data": {
      "image/png": "[encoded data removed]",
      "text/plain": [
       "<Figure size 504x432 with 1 Axes>"
      ]
     },
     "metadata": {},
     "output_type": "display_data"
    }
   ],
   "source": [
    "plt.figure(figsize=(7,6))\n",
    "plt.pie(Gender_group_data.Consume_frequency, labels=Gender_group_data.index, autopct ='%.1f%%', startangle = 90, \n",
    "        explode=[0.040,0.050,0.0] ,colors=['plum','lightskyblue','purple']);\n",
    "plt.title('Gender distribution on preference on energy drinks');"
   ]
  },
  {
   "cell_type": "markdown",
   "id": "80d7d189",
   "metadata": {},
   "source": [
    "### b:  Which age group prefers energy drinks more?"
   ]
  },
  {
   "cell_type": "code",
   "execution_count": 131,
   "id": "d1b52c7c",
   "metadata": {},
   "outputs": [
    {
     "data": {
      "text/html": [
       "<div>\n",
       "<style scoped>\n",
       "    .dataframe tbody tr th:only-of-type {\n",
       "        vertical-align: middle;\n",
       "    }\n",
       "\n",
       "    .dataframe tbody tr th {\n",
       "        vertical-align: top;\n",
       "    }\n",
       "\n",
       "    .dataframe thead th {\n",
       "        text-align: right;\n",
       "    }\n",
       "</style>\n",
       "<table border=\"1\" class=\"dataframe\">\n",
       "  <thead>\n",
       "    <tr style=\"text-align: right;\">\n",
       "      <th></th>\n",
       "      <th>Consume_frequency</th>\n",
       "    </tr>\n",
       "    <tr>\n",
       "      <th>Age</th>\n",
       "      <th></th>\n",
       "    </tr>\n",
       "  </thead>\n",
       "  <tbody>\n",
       "    <tr>\n",
       "      <th>15-18</th>\n",
       "      <td>1488</td>\n",
       "    </tr>\n",
       "    <tr>\n",
       "      <th>19-30</th>\n",
       "      <td>5520</td>\n",
       "    </tr>\n",
       "    <tr>\n",
       "      <th>31-45</th>\n",
       "      <td>2376</td>\n",
       "    </tr>\n",
       "    <tr>\n",
       "      <th>46-65</th>\n",
       "      <td>426</td>\n",
       "    </tr>\n",
       "    <tr>\n",
       "      <th>65+</th>\n",
       "      <td>190</td>\n",
       "    </tr>\n",
       "  </tbody>\n",
       "</table>\n",
       "</div>"
      ],
      "text/plain": [
       "       Consume_frequency\n",
       "Age                     \n",
       "15-18               1488\n",
       "19-30               5520\n",
       "31-45               2376\n",
       "46-65                426\n",
       "65+                  190"
      ]
     },
     "execution_count": 131,
     "metadata": {},
     "output_type": "execute_result"
    }
   ],
   "source": [
    "ndf = dim_repondents_df.merge(fact_survey_responses_df,on='Respondent_ID')\n",
    "ndf = ndf[['Age','Consume_frequency']]\n",
    "age_group_data = ndf.groupby('Age')[['Consume_frequency']].count()\n",
    "age_group_data"
   ]
  },
  {
   "cell_type": "code",
   "execution_count": 132,
   "id": "ebddede4",
   "metadata": {},
   "outputs": [
    {
     "data": {
      "image/png": "[encoded data removed]",
      "text/plain": [
       "<Figure size 504x432 with 1 Axes>"
      ]
     },
     "metadata": {},
     "output_type": "display_data"
    }
   ],
   "source": [
    "sns.set_style('darkgrid')\n",
    "font_properties = {'family': 'serif', 'size': 14, 'weight': 'bold'}\n",
    "\n",
    "plt.figure(figsize=(7,6))\n",
    "sns.barplot(x=age_group_data.index , y=age_group_data.Consume_frequency,palette=['#FF2000', '#FF1744', '#FF5252', '#ff7530', '#ffa245']);\n",
    "\n",
    "plt.xlabel(\"Age_group\",fontdict=font_properties)\n",
    "plt.ylabel('Consumer Frequency',fontdict=font_properties)\n",
    "plt.title('Age distribution on preference on energy drinks')\n",
    "plt.show()"
   ]
  },
  {
   "cell_type": "markdown",
   "id": "a5a8ab54",
   "metadata": {},
   "source": [
    "### C:  Which type of marketing reaches the most Youth (15-30)"
   ]
  },
  {
   "cell_type": "code",
   "execution_count": 133,
   "id": "1df7aaba",
   "metadata": {},
   "outputs": [
    {
     "data": {
      "text/html": [
       "<div>\n",
       "<style scoped>\n",
       "    .dataframe tbody tr th:only-of-type {\n",
       "        vertical-align: middle;\n",
       "    }\n",
       "\n",
       "    .dataframe tbody tr th {\n",
       "        vertical-align: top;\n",
       "    }\n",
       "\n",
       "    .dataframe thead th {\n",
       "        text-align: right;\n",
       "    }\n",
       "</style>\n",
       "<table border=\"1\" class=\"dataframe\">\n",
       "  <thead>\n",
       "    <tr style=\"text-align: right;\">\n",
       "      <th></th>\n",
       "      <th>Age</th>\n",
       "    </tr>\n",
       "    <tr>\n",
       "      <th>Marketing_channels</th>\n",
       "      <th></th>\n",
       "    </tr>\n",
       "  </thead>\n",
       "  <tbody>\n",
       "    <tr>\n",
       "      <th>Online ads</th>\n",
       "      <td>707</td>\n",
       "    </tr>\n",
       "    <tr>\n",
       "      <th>TV commercials</th>\n",
       "      <td>495</td>\n",
       "    </tr>\n",
       "    <tr>\n",
       "      <th>Outdoor billboards</th>\n",
       "      <td>117</td>\n",
       "    </tr>\n",
       "    <tr>\n",
       "      <th>Other</th>\n",
       "      <td>94</td>\n",
       "    </tr>\n",
       "    <tr>\n",
       "      <th>Print media</th>\n",
       "      <td>75</td>\n",
       "    </tr>\n",
       "  </tbody>\n",
       "</table>\n",
       "</div>"
      ],
      "text/plain": [
       "                    Age\n",
       "Marketing_channels     \n",
       "Online ads          707\n",
       "TV commercials      495\n",
       "Outdoor billboards  117\n",
       "Other                94\n",
       "Print media          75"
      ]
     },
     "execution_count": 133,
     "metadata": {},
     "output_type": "execute_result"
    }
   ],
   "source": [
    "ndf = dim_repondents_df.merge(fact_survey_responses_df,on='Respondent_ID')\n",
    "filtered_df = ndf[ndf['Age'] == '15-18']\n",
    "Marketing_group_df = filtered_df.groupby('Marketing_channels')[['Age']].count().sort_values('Age',ascending=False)\n",
    "Marketing_group_df"
   ]
  },
  {
   "cell_type": "code",
   "execution_count": 134,
   "id": "d170caf7",
   "metadata": {},
   "outputs": [
    {
     "data": {
      "image/png": "[encoded data removed]",
      "text/plain": [
       "<Figure size 648x432 with 1 Axes>"
      ]
     },
     "metadata": {},
     "output_type": "display_data"
    }
   ],
   "source": [
    "plt.figure(figsize=(9,6))\n",
    "sns.barplot(x=Marketing_group_df.Age, y=Marketing_group_df.index,saturation=1.5,palette='plasma')\n",
    "plt.ylabel(\"Marketing_channles\")\n",
    "plt.xlabel('Response')\n",
    "plt.title('Marketing reaching the most Youth (15-30)')\n",
    "plt.show()"
   ]
  },
  {
   "cell_type": "code",
   "execution_count": null,
   "id": "cf75d9ee",
   "metadata": {},
   "outputs": [],
   "source": []
  },
  {
   "cell_type": "code",
   "execution_count": null,
   "id": "ff7e4076",
   "metadata": {},
   "outputs": [],
   "source": []
  },
  {
   "cell_type": "markdown",
   "id": "6444c6b7",
   "metadata": {},
   "source": [
    "### 2 Marketing Channels and Brand Awareness:"
   ]
  },
  {
   "cell_type": "markdown",
   "id": "3568a8d0",
   "metadata": {},
   "source": [
    "### a. What are the preferred ingredients of energy drinks among respondents?\n"
   ]
  },
  {
   "cell_type": "code",
   "execution_count": 135,
   "id": "f7e645c7",
   "metadata": {},
   "outputs": [
    {
     "data": {
      "text/html": [
       "<div>\n",
       "<style scoped>\n",
       "    .dataframe tbody tr th:only-of-type {\n",
       "        vertical-align: middle;\n",
       "    }\n",
       "\n",
       "    .dataframe tbody tr th {\n",
       "        vertical-align: top;\n",
       "    }\n",
       "\n",
       "    .dataframe thead th {\n",
       "        text-align: right;\n",
       "    }\n",
       "</style>\n",
       "<table border=\"1\" class=\"dataframe\">\n",
       "  <thead>\n",
       "    <tr style=\"text-align: right;\">\n",
       "      <th></th>\n",
       "      <th>Consume_frequency</th>\n",
       "    </tr>\n",
       "    <tr>\n",
       "      <th>Ingredients_expected</th>\n",
       "      <th></th>\n",
       "    </tr>\n",
       "  </thead>\n",
       "  <tbody>\n",
       "    <tr>\n",
       "      <th>Caffeine</th>\n",
       "      <td>3896</td>\n",
       "    </tr>\n",
       "    <tr>\n",
       "      <th>Vitamins</th>\n",
       "      <td>2534</td>\n",
       "    </tr>\n",
       "    <tr>\n",
       "      <th>Sugar</th>\n",
       "      <td>2017</td>\n",
       "    </tr>\n",
       "    <tr>\n",
       "      <th>Guarana</th>\n",
       "      <td>1553</td>\n",
       "    </tr>\n",
       "  </tbody>\n",
       "</table>\n",
       "</div>"
      ],
      "text/plain": [
       "                      Consume_frequency\n",
       "Ingredients_expected                   \n",
       "Caffeine                           3896\n",
       "Vitamins                           2534\n",
       "Sugar                              2017\n",
       "Guarana                            1553"
      ]
     },
     "execution_count": 135,
     "metadata": {},
     "output_type": "execute_result"
    }
   ],
   "source": [
    "\n",
    "ingredients_df = fact_survey_responses_df.groupby('Ingredients_expected')[['Consume_frequency']].count().sort_values('Consume_frequency',ascending=False)\n",
    "ingredients_df"
   ]
  },
  {
   "cell_type": "code",
   "execution_count": 136,
   "id": "d93097e2",
   "metadata": {},
   "outputs": [
    {
     "data": {
      "image/png": "[encoded data removed]",
      "text/plain": [
       "<Figure size 504x432 with 1 Axes>"
      ]
     },
     "metadata": {},
     "output_type": "display_data"
    }
   ],
   "source": [
    "plt.figure(figsize=(7,6))\n",
    "\n",
    "sns.barplot(y=ingredients_df.Consume_frequency ,x=ingredients_df.index,saturation=2.5,palette='spring');\n",
    "plt.xlabel('\\nIngerdients_used\\n',fontsize=15, color='grey')\n",
    "plt.ylabel('\\nConsumer Frequency\\n',fontsize=15, color='grey')\n",
    "plt.title('Preferred ingredients of energy drinks among respondents',fontsize=15, color='grey');"
   ]
  },
  {
   "cell_type": "code",
   "execution_count": 137,
   "id": "edb543b2",
   "metadata": {},
   "outputs": [
    {
     "data": {
      "text/html": [
       "<div>\n",
       "<style scoped>\n",
       "    .dataframe tbody tr th:only-of-type {\n",
       "        vertical-align: middle;\n",
       "    }\n",
       "\n",
       "    .dataframe tbody tr th {\n",
       "        vertical-align: top;\n",
       "    }\n",
       "\n",
       "    .dataframe thead th {\n",
       "        text-align: right;\n",
       "    }\n",
       "</style>\n",
       "<table border=\"1\" class=\"dataframe\">\n",
       "  <thead>\n",
       "    <tr style=\"text-align: right;\">\n",
       "      <th>Gender</th>\n",
       "      <th>Female</th>\n",
       "      <th>Male</th>\n",
       "      <th>Non-binary</th>\n",
       "    </tr>\n",
       "    <tr>\n",
       "      <th>Ingredients_expected</th>\n",
       "      <th></th>\n",
       "      <th></th>\n",
       "      <th></th>\n",
       "    </tr>\n",
       "  </thead>\n",
       "  <tbody>\n",
       "    <tr>\n",
       "      <th>Caffeine</th>\n",
       "      <td>1342</td>\n",
       "      <td>2363</td>\n",
       "      <td>191</td>\n",
       "    </tr>\n",
       "    <tr>\n",
       "      <th>Guarana</th>\n",
       "      <td>543</td>\n",
       "      <td>919</td>\n",
       "      <td>91</td>\n",
       "    </tr>\n",
       "    <tr>\n",
       "      <th>Sugar</th>\n",
       "      <td>676</td>\n",
       "      <td>1254</td>\n",
       "      <td>87</td>\n",
       "    </tr>\n",
       "    <tr>\n",
       "      <th>Vitamins</th>\n",
       "      <td>894</td>\n",
       "      <td>1502</td>\n",
       "      <td>138</td>\n",
       "    </tr>\n",
       "  </tbody>\n",
       "</table>\n",
       "</div>"
      ],
      "text/plain": [
       "Gender                Female  Male  Non-binary\n",
       "Ingredients_expected                          \n",
       "Caffeine                1342  2363         191\n",
       "Guarana                  543   919          91\n",
       "Sugar                    676  1254          87\n",
       "Vitamins                 894  1502         138"
      ]
     },
     "execution_count": 137,
     "metadata": {},
     "output_type": "execute_result"
    }
   ],
   "source": [
    "ingredients_df = ndf.groupby('Ingredients_expected')[['Gender']].value_counts().unstack()\n",
    "ingredients_df\n",
    "\n"
   ]
  },
  {
   "cell_type": "code",
   "execution_count": 138,
   "id": "80e91240",
   "metadata": {},
   "outputs": [
    {
     "data": {
      "image/png": "[encoded data removed]",
      "text/plain": [
       "<Figure size 576x360 with 1 Axes>"
      ]
     },
     "metadata": {},
     "output_type": "display_data"
    }
   ],
   "source": [
    "# 5\n",
    "\n",
    "ingredients_df = ndf.groupby('Ingredients_expected')[['Gender']].value_counts().unstack()\n",
    "ax = ingredients_df.plot(kind='barh', figsize=(8, 5), \n",
    "                               color=['#fcfa5d', '#ffe066', '#fab666', '#f68f6a'],\n",
    "                               rot=0);\n",
    "\n",
    "    \n",
    "ax.spines['bottom'].set_bounds(0,0)\n",
    "ax.set_ylabel('\\nIngerdiens\\n', fontsize=15, color='grey');\n",
    "ax.set_xlabel('\\nresponse\\n', fontsize=15, color='grey');\n",
    "ax.legend(prop={'size': 12.5}, loc='best', fancybox = True, title=\"Severity\", title_fontsize=15, edgecolor='white');\n",
    "ax.tick_params(axis='both', which='major', labelsize=12.5)\n",
    "\n"
   ]
  },
  {
   "cell_type": "markdown",
   "id": "f73e89f4",
   "metadata": {},
   "source": [
    "### b. What packaging preferences do respondents have for energy drinks?\n"
   ]
  },
  {
   "cell_type": "code",
   "execution_count": 139,
   "id": "9667dd0b",
   "metadata": {},
   "outputs": [
    {
     "data": {
      "text/html": [
       "<div>\n",
       "<style scoped>\n",
       "    .dataframe tbody tr th:only-of-type {\n",
       "        vertical-align: middle;\n",
       "    }\n",
       "\n",
       "    .dataframe tbody tr th {\n",
       "        vertical-align: top;\n",
       "    }\n",
       "\n",
       "    .dataframe thead th {\n",
       "        text-align: right;\n",
       "    }\n",
       "</style>\n",
       "<table border=\"1\" class=\"dataframe\">\n",
       "  <thead>\n",
       "    <tr style=\"text-align: right;\">\n",
       "      <th></th>\n",
       "      <th>Consume_frequency</th>\n",
       "    </tr>\n",
       "    <tr>\n",
       "      <th>Packaging_preference</th>\n",
       "      <th></th>\n",
       "    </tr>\n",
       "  </thead>\n",
       "  <tbody>\n",
       "    <tr>\n",
       "      <th>Compact and portable cans</th>\n",
       "      <td>3984</td>\n",
       "    </tr>\n",
       "    <tr>\n",
       "      <th>Innovative bottle design</th>\n",
       "      <td>3047</td>\n",
       "    </tr>\n",
       "    <tr>\n",
       "      <th>Collectible packaging</th>\n",
       "      <td>1501</td>\n",
       "    </tr>\n",
       "    <tr>\n",
       "      <th>Eco-friendly design</th>\n",
       "      <td>983</td>\n",
       "    </tr>\n",
       "    <tr>\n",
       "      <th>Other</th>\n",
       "      <td>485</td>\n",
       "    </tr>\n",
       "  </tbody>\n",
       "</table>\n",
       "</div>"
      ],
      "text/plain": [
       "                           Consume_frequency\n",
       "Packaging_preference                        \n",
       "Compact and portable cans               3984\n",
       "Innovative bottle design                3047\n",
       "Collectible packaging                   1501\n",
       "Eco-friendly design                      983\n",
       "Other                                    485"
      ]
     },
     "execution_count": 139,
     "metadata": {},
     "output_type": "execute_result"
    }
   ],
   "source": [
    "Packing_df = fact_survey_responses_df.groupby('Packaging_preference')[['Consume_frequency']].count().sort_values('Consume_frequency',ascending=False)\n",
    "Packing_df"
   ]
  },
  {
   "cell_type": "code",
   "execution_count": 140,
   "id": "def742ea",
   "metadata": {},
   "outputs": [
    {
     "data": {
      "image/png": "[encoded data removed]",
      "text/plain": [
       "<Figure size 504x432 with 1 Axes>"
      ]
     },
     "metadata": {},
     "output_type": "display_data"
    }
   ],
   "source": [
    "plt.figure(figsize=(7,6))\n",
    "\n",
    "sns.barplot(x=Packing_df.Consume_frequency ,y=Packing_df.index,saturation=2.5 ,palette='rainbow');\n",
    "plt.xlabel('Response')\n",
    "plt.ylabel('Packing')\n",
    "plt.xticks(rotation=10, fontsize=12)\n",
    "plt.yticks(fontsize=12)\n",
    "plt.title('Preferred packing  among respondents');"
   ]
  },
  {
   "cell_type": "code",
   "execution_count": null,
   "id": "abef5675",
   "metadata": {},
   "outputs": [],
   "source": []
  },
  {
   "cell_type": "code",
   "execution_count": null,
   "id": "9093c95b",
   "metadata": {},
   "outputs": [],
   "source": []
  },
  {
   "cell_type": "markdown",
   "id": "35424007",
   "metadata": {},
   "source": [
    "###  3 Competition Analysis:\n"
   ]
  },
  {
   "cell_type": "markdown",
   "id": "f46be556",
   "metadata": {},
   "source": [
    "### a. Who are the current market leaders?\n"
   ]
  },
  {
   "cell_type": "code",
   "execution_count": 141,
   "id": "773c3618",
   "metadata": {},
   "outputs": [
    {
     "data": {
      "text/html": [
       "<div>\n",
       "<style scoped>\n",
       "    .dataframe tbody tr th:only-of-type {\n",
       "        vertical-align: middle;\n",
       "    }\n",
       "\n",
       "    .dataframe tbody tr th {\n",
       "        vertical-align: top;\n",
       "    }\n",
       "\n",
       "    .dataframe thead th {\n",
       "        text-align: right;\n",
       "    }\n",
       "</style>\n",
       "<table border=\"1\" class=\"dataframe\">\n",
       "  <thead>\n",
       "    <tr style=\"text-align: right;\">\n",
       "      <th></th>\n",
       "      <th>Consume_frequency</th>\n",
       "    </tr>\n",
       "    <tr>\n",
       "      <th>Current_brands</th>\n",
       "      <th></th>\n",
       "    </tr>\n",
       "  </thead>\n",
       "  <tbody>\n",
       "    <tr>\n",
       "      <th>Cola-Coka</th>\n",
       "      <td>2538</td>\n",
       "    </tr>\n",
       "    <tr>\n",
       "      <th>Bepsi</th>\n",
       "      <td>2112</td>\n",
       "    </tr>\n",
       "    <tr>\n",
       "      <th>Gangster</th>\n",
       "      <td>1854</td>\n",
       "    </tr>\n",
       "    <tr>\n",
       "      <th>Blue Bull</th>\n",
       "      <td>1058</td>\n",
       "    </tr>\n",
       "    <tr>\n",
       "      <th>CodeX</th>\n",
       "      <td>980</td>\n",
       "    </tr>\n",
       "    <tr>\n",
       "      <th>Sky 9</th>\n",
       "      <td>979</td>\n",
       "    </tr>\n",
       "    <tr>\n",
       "      <th>Others</th>\n",
       "      <td>479</td>\n",
       "    </tr>\n",
       "  </tbody>\n",
       "</table>\n",
       "</div>"
      ],
      "text/plain": [
       "                Consume_frequency\n",
       "Current_brands                   \n",
       "Cola-Coka                    2538\n",
       "Bepsi                        2112\n",
       "Gangster                     1854\n",
       "Blue Bull                    1058\n",
       "CodeX                         980\n",
       "Sky 9                         979\n",
       "Others                        479"
      ]
     },
     "execution_count": 141,
     "metadata": {},
     "output_type": "execute_result"
    }
   ],
   "source": [
    "current_markrt_leaders_df = fact_survey_responses_df.groupby('Current_brands')[['Consume_frequency']].count().sort_values('Consume_frequency',ascending=False)\n",
    "\n",
    "current_markrt_leaders_df"
   ]
  },
  {
   "cell_type": "code",
   "execution_count": 142,
   "id": "073d5e97",
   "metadata": {},
   "outputs": [
    {
     "data": {
      "image/png": "[encoded data removed]",
      "text/plain": [
       "<Figure size 612x288 with 1 Axes>"
      ]
     },
     "metadata": {},
     "output_type": "display_data"
    }
   ],
   "source": [
    "plt.figure(figsize=(8.5,4))\n",
    "sns.barplot(x=current_markrt_leaders_df.index,y=current_markrt_leaders_df.Consume_frequency,palette=\"spring_r\",saturation=2.5);\n",
    "plt.xlabel('\\nBrands\\n')\n",
    "plt.ylabel('\\nConsumer_frequency\\n')\n",
    "plt.title('\\ncurrent markrt leaders\\n');"
   ]
  },
  {
   "cell_type": "markdown",
   "id": "2e472641",
   "metadata": {},
   "source": [
    "### b. What are the primary reasons consumers prefer those brands over ours?"
   ]
  },
  {
   "cell_type": "code",
   "execution_count": 143,
   "id": "49a5fbb3",
   "metadata": {},
   "outputs": [
    {
     "data": {
      "text/html": [
       "<div>\n",
       "<style scoped>\n",
       "    .dataframe tbody tr th:only-of-type {\n",
       "        vertical-align: middle;\n",
       "    }\n",
       "\n",
       "    .dataframe tbody tr th {\n",
       "        vertical-align: top;\n",
       "    }\n",
       "\n",
       "    .dataframe thead th {\n",
       "        text-align: right;\n",
       "    }\n",
       "</style>\n",
       "<table border=\"1\" class=\"dataframe\">\n",
       "  <thead>\n",
       "    <tr style=\"text-align: right;\">\n",
       "      <th></th>\n",
       "      <th>Consume_frequency</th>\n",
       "    </tr>\n",
       "    <tr>\n",
       "      <th>Reasons_for_choosing_brands</th>\n",
       "      <th></th>\n",
       "    </tr>\n",
       "  </thead>\n",
       "  <tbody>\n",
       "    <tr>\n",
       "      <th>Brand reputation</th>\n",
       "      <td>2652</td>\n",
       "    </tr>\n",
       "    <tr>\n",
       "      <th>Taste/flavor preference</th>\n",
       "      <td>2011</td>\n",
       "    </tr>\n",
       "    <tr>\n",
       "      <th>Availability</th>\n",
       "      <td>1910</td>\n",
       "    </tr>\n",
       "    <tr>\n",
       "      <th>Effectiveness</th>\n",
       "      <td>1748</td>\n",
       "    </tr>\n",
       "    <tr>\n",
       "      <th>Other</th>\n",
       "      <td>1679</td>\n",
       "    </tr>\n",
       "  </tbody>\n",
       "</table>\n",
       "</div>"
      ],
      "text/plain": [
       "                             Consume_frequency\n",
       "Reasons_for_choosing_brands                   \n",
       "Brand reputation                          2652\n",
       "Taste/flavor preference                   2011\n",
       "Availability                              1910\n",
       "Effectiveness                             1748\n",
       "Other                                     1679"
      ]
     },
     "execution_count": 143,
     "metadata": {},
     "output_type": "execute_result"
    }
   ],
   "source": [
    "brands_over_df = fact_survey_responses_df.groupby('Reasons_for_choosing_brands')[['Consume_frequency']].count().sort_values('Consume_frequency',ascending=False)\n",
    "\n",
    "brands_over_df"
   ]
  },
  {
   "cell_type": "code",
   "execution_count": 144,
   "id": "970d63ce",
   "metadata": {},
   "outputs": [
    {
     "data": {
      "image/png": "[encoded data removed]",
      "text/plain": [
       "<Figure size 612x288 with 1 Axes>"
      ]
     },
     "metadata": {},
     "output_type": "display_data"
    }
   ],
   "source": [
    "plt.figure(figsize=(8.5,4))\n",
    "sns.barplot(x=brands_over_df.index,y=brands_over_df.Consume_frequency,palette=\"magma\",saturation=2.5);\n",
    "plt.xlabel('\\nReasons\\n')\n",
    "plt.ylabel('\\nConsumer_frequency\\n')\n",
    "plt.title('\\nprimary reasons consumers prefer those brands\\n');"
   ]
  },
  {
   "cell_type": "code",
   "execution_count": null,
   "id": "d3430267",
   "metadata": {},
   "outputs": [],
   "source": []
  },
  {
   "cell_type": "code",
   "execution_count": null,
   "id": "047327df",
   "metadata": {},
   "outputs": [],
   "source": []
  },
  {
   "cell_type": "markdown",
   "id": "c2bc7ae3",
   "metadata": {},
   "source": [
    "### 4 Marketing Channels and Brand Awareness:"
   ]
  },
  {
   "cell_type": "markdown",
   "id": "a495d629",
   "metadata": {},
   "source": [
    "### a. Which marketing channel can be used to reach more customers?"
   ]
  },
  {
   "cell_type": "code",
   "execution_count": 145,
   "id": "a545448c",
   "metadata": {},
   "outputs": [
    {
     "data": {
      "text/html": [
       "<div>\n",
       "<style scoped>\n",
       "    .dataframe tbody tr th:only-of-type {\n",
       "        vertical-align: middle;\n",
       "    }\n",
       "\n",
       "    .dataframe tbody tr th {\n",
       "        vertical-align: top;\n",
       "    }\n",
       "\n",
       "    .dataframe thead th {\n",
       "        text-align: right;\n",
       "    }\n",
       "</style>\n",
       "<table border=\"1\" class=\"dataframe\">\n",
       "  <thead>\n",
       "    <tr style=\"text-align: right;\">\n",
       "      <th></th>\n",
       "      <th>Consume_frequency</th>\n",
       "    </tr>\n",
       "    <tr>\n",
       "      <th>Marketing_channels</th>\n",
       "      <th></th>\n",
       "    </tr>\n",
       "  </thead>\n",
       "  <tbody>\n",
       "    <tr>\n",
       "      <th>Online ads</th>\n",
       "      <td>4020</td>\n",
       "    </tr>\n",
       "    <tr>\n",
       "      <th>Other</th>\n",
       "      <td>1225</td>\n",
       "    </tr>\n",
       "    <tr>\n",
       "      <th>Outdoor billboards</th>\n",
       "      <td>1226</td>\n",
       "    </tr>\n",
       "    <tr>\n",
       "      <th>Print media</th>\n",
       "      <td>841</td>\n",
       "    </tr>\n",
       "    <tr>\n",
       "      <th>TV commercials</th>\n",
       "      <td>2688</td>\n",
       "    </tr>\n",
       "  </tbody>\n",
       "</table>\n",
       "</div>"
      ],
      "text/plain": [
       "                    Consume_frequency\n",
       "Marketing_channels                   \n",
       "Online ads                       4020\n",
       "Other                            1225\n",
       "Outdoor billboards               1226\n",
       "Print media                       841\n",
       "TV commercials                   2688"
      ]
     },
     "execution_count": 145,
     "metadata": {},
     "output_type": "execute_result"
    }
   ],
   "source": [
    "marketing_channel = fact_survey_responses_df.groupby('Marketing_channels')[['Consume_frequency']].count()\n",
    "marketing_channel"
   ]
  },
  {
   "cell_type": "code",
   "execution_count": 146,
   "id": "6335ac48",
   "metadata": {},
   "outputs": [
    {
     "data": {
      "image/png": "[encoded data removed]",
      "text/plain": [
       "<Figure size 504x432 with 1 Axes>"
      ]
     },
     "metadata": {},
     "output_type": "display_data"
    }
   ],
   "source": [
    "plt.figure(figsize=(7,6))\n",
    " \n",
    "plt.pie(marketing_channel.Consume_frequency, labels=marketing_channel.index, autopct ='%.1f%%', startangle = 90, \n",
    "        explode=[0.040,0.050,0.0,0.0,0.0] ,colors=['#6275CC','#73A5C6','#0D9CBF','#BCD2E8','#E0C4E7']);\n",
    "plt.title('Marketing channel can be used to reach more customers',fontsize=15,color='grey');\n"
   ]
  },
  {
   "cell_type": "markdown",
   "id": "fdaab73b",
   "metadata": {},
   "source": [
    "### b. How effective are different marketing strategies and channels in reaching our customers?"
   ]
  },
  {
   "cell_type": "code",
   "execution_count": 147,
   "id": "d32603fc",
   "metadata": {},
   "outputs": [
    {
     "data": {
      "text/html": [
       "<div>\n",
       "<style scoped>\n",
       "    .dataframe tbody tr th:only-of-type {\n",
       "        vertical-align: middle;\n",
       "    }\n",
       "\n",
       "    .dataframe tbody tr th {\n",
       "        vertical-align: top;\n",
       "    }\n",
       "\n",
       "    .dataframe thead th {\n",
       "        text-align: right;\n",
       "    }\n",
       "</style>\n",
       "<table border=\"1\" class=\"dataframe\">\n",
       "  <thead>\n",
       "    <tr style=\"text-align: right;\">\n",
       "      <th></th>\n",
       "      <th>Consume_frequency</th>\n",
       "    </tr>\n",
       "    <tr>\n",
       "      <th>Gender</th>\n",
       "      <th></th>\n",
       "    </tr>\n",
       "  </thead>\n",
       "  <tbody>\n",
       "    <tr>\n",
       "      <th>Female</th>\n",
       "      <td>3455</td>\n",
       "    </tr>\n",
       "    <tr>\n",
       "      <th>Male</th>\n",
       "      <td>6038</td>\n",
       "    </tr>\n",
       "    <tr>\n",
       "      <th>Non-binary</th>\n",
       "      <td>507</td>\n",
       "    </tr>\n",
       "  </tbody>\n",
       "</table>\n",
       "</div>"
      ],
      "text/plain": [
       "            Consume_frequency\n",
       "Gender                       \n",
       "Female                   3455\n",
       "Male                     6038\n",
       "Non-binary                507"
      ]
     },
     "execution_count": 147,
     "metadata": {},
     "output_type": "execute_result"
    }
   ],
   "source": [
    "ndf = dim_repondents_df.merge(fact_survey_responses_df,on='Respondent_ID')\n",
    "ndff = ndf[['Gender','Consume_frequency']]\n",
    "Gender_group_data = ndf.groupby('Gender')[['Consume_frequency']].count()\n",
    "Gender_group_data"
   ]
  },
  {
   "cell_type": "code",
   "execution_count": 148,
   "id": "4650b35c",
   "metadata": {},
   "outputs": [
    {
     "data": {
      "text/html": [
       "<div>\n",
       "<style scoped>\n",
       "    .dataframe tbody tr th:only-of-type {\n",
       "        vertical-align: middle;\n",
       "    }\n",
       "\n",
       "    .dataframe tbody tr th {\n",
       "        vertical-align: top;\n",
       "    }\n",
       "\n",
       "    .dataframe thead th {\n",
       "        text-align: right;\n",
       "    }\n",
       "</style>\n",
       "<table border=\"1\" class=\"dataframe\">\n",
       "  <thead>\n",
       "    <tr style=\"text-align: right;\">\n",
       "      <th></th>\n",
       "      <th>Respondent_ID</th>\n",
       "      <th>Name</th>\n",
       "      <th>Age</th>\n",
       "      <th>Gender</th>\n",
       "      <th>City_ID</th>\n",
       "    </tr>\n",
       "  </thead>\n",
       "  <tbody>\n",
       "    <tr>\n",
       "      <th>0</th>\n",
       "      <td>120031</td>\n",
       "      <td>Aniruddh Issac</td>\n",
       "      <td>15-18</td>\n",
       "      <td>Female</td>\n",
       "      <td>CT117</td>\n",
       "    </tr>\n",
       "    <tr>\n",
       "      <th>1</th>\n",
       "      <td>120032</td>\n",
       "      <td>Trisha Rout</td>\n",
       "      <td>19-30</td>\n",
       "      <td>Male</td>\n",
       "      <td>CT118</td>\n",
       "    </tr>\n",
       "    <tr>\n",
       "      <th>2</th>\n",
       "      <td>120033</td>\n",
       "      <td>Yuvraj  Virk</td>\n",
       "      <td>15-18</td>\n",
       "      <td>Male</td>\n",
       "      <td>CT116</td>\n",
       "    </tr>\n",
       "    <tr>\n",
       "      <th>3</th>\n",
       "      <td>120034</td>\n",
       "      <td>Pranay Chand</td>\n",
       "      <td>31-45</td>\n",
       "      <td>Female</td>\n",
       "      <td>CT113</td>\n",
       "    </tr>\n",
       "    <tr>\n",
       "      <th>4</th>\n",
       "      <td>120035</td>\n",
       "      <td>Mohanlal Joshi</td>\n",
       "      <td>19-30</td>\n",
       "      <td>Female</td>\n",
       "      <td>CT120</td>\n",
       "    </tr>\n",
       "  </tbody>\n",
       "</table>\n",
       "</div>"
      ],
      "text/plain": [
       "   Respondent_ID            Name    Age  Gender City_ID\n",
       "0         120031  Aniruddh Issac  15-18  Female   CT117\n",
       "1         120032     Trisha Rout  19-30    Male   CT118\n",
       "2         120033    Yuvraj  Virk  15-18    Male   CT116\n",
       "3         120034    Pranay Chand  31-45  Female   CT113\n",
       "4         120035  Mohanlal Joshi  19-30  Female   CT120"
      ]
     },
     "execution_count": 148,
     "metadata": {},
     "output_type": "execute_result"
    }
   ],
   "source": [
    "dim_repondents_df.head()"
   ]
  },
  {
   "cell_type": "code",
   "execution_count": null,
   "id": "28c701f5",
   "metadata": {},
   "outputs": [],
   "source": []
  },
  {
   "cell_type": "code",
   "execution_count": 149,
   "id": "e4e6d42a",
   "metadata": {},
   "outputs": [],
   "source": [
    "# so we can create suplots for this for better understaning"
   ]
  },
  {
   "cell_type": "code",
   "execution_count": 150,
   "id": "c21dc56c",
   "metadata": {},
   "outputs": [
    {
     "data": {
      "text/html": [
       "<div>\n",
       "<style scoped>\n",
       "    .dataframe tbody tr th:only-of-type {\n",
       "        vertical-align: middle;\n",
       "    }\n",
       "\n",
       "    .dataframe tbody tr th {\n",
       "        vertical-align: top;\n",
       "    }\n",
       "\n",
       "    .dataframe thead th {\n",
       "        text-align: right;\n",
       "    }\n",
       "</style>\n",
       "<table border=\"1\" class=\"dataframe\">\n",
       "  <thead>\n",
       "    <tr style=\"text-align: right;\">\n",
       "      <th></th>\n",
       "      <th>Respondent_ID</th>\n",
       "      <th>Name</th>\n",
       "      <th>Age</th>\n",
       "      <th>Gender</th>\n",
       "      <th>City_ID</th>\n",
       "      <th>Response_ID</th>\n",
       "      <th>Consume_frequency</th>\n",
       "      <th>Consume_time</th>\n",
       "      <th>Consume_reason</th>\n",
       "      <th>Heard_before</th>\n",
       "      <th>...</th>\n",
       "      <th>Health_concerns</th>\n",
       "      <th>Interest_in_natural_or_organic</th>\n",
       "      <th>Marketing_channels</th>\n",
       "      <th>Packaging_preference</th>\n",
       "      <th>Limited_edition_packaging</th>\n",
       "      <th>Price_range</th>\n",
       "      <th>Purchase_location</th>\n",
       "      <th>Typical_consumption_situations</th>\n",
       "      <th>City</th>\n",
       "      <th>Tier</th>\n",
       "    </tr>\n",
       "  </thead>\n",
       "  <tbody>\n",
       "    <tr>\n",
       "      <th>0</th>\n",
       "      <td>120031</td>\n",
       "      <td>Aniruddh Issac</td>\n",
       "      <td>15-18</td>\n",
       "      <td>Female</td>\n",
       "      <td>CT117</td>\n",
       "      <td>103001</td>\n",
       "      <td>2-3 times a week</td>\n",
       "      <td>To stay awake during work/study</td>\n",
       "      <td>Increased energy and focus</td>\n",
       "      <td>Yes</td>\n",
       "      <td>...</td>\n",
       "      <td>No</td>\n",
       "      <td>Yes</td>\n",
       "      <td>TV commercials</td>\n",
       "      <td>Compact and portable cans</td>\n",
       "      <td>Yes</td>\n",
       "      <td>50-99</td>\n",
       "      <td>Supermarkets</td>\n",
       "      <td>Studying/working late</td>\n",
       "      <td>Ahmedabad</td>\n",
       "      <td>Tier 2</td>\n",
       "    </tr>\n",
       "    <tr>\n",
       "      <th>1</th>\n",
       "      <td>120055</td>\n",
       "      <td>Umang Sarkar</td>\n",
       "      <td>31-45</td>\n",
       "      <td>Non-binary</td>\n",
       "      <td>CT117</td>\n",
       "      <td>103025</td>\n",
       "      <td>Once a week</td>\n",
       "      <td>Before exercise</td>\n",
       "      <td>To enhance sports performance</td>\n",
       "      <td>Yes</td>\n",
       "      <td>...</td>\n",
       "      <td>No</td>\n",
       "      <td>No</td>\n",
       "      <td>Outdoor billboards</td>\n",
       "      <td>Eco-friendly design</td>\n",
       "      <td>No</td>\n",
       "      <td>Above 150</td>\n",
       "      <td>Gyms and fitness centers</td>\n",
       "      <td>Studying/working late</td>\n",
       "      <td>Ahmedabad</td>\n",
       "      <td>Tier 2</td>\n",
       "    </tr>\n",
       "    <tr>\n",
       "      <th>2</th>\n",
       "      <td>120057</td>\n",
       "      <td>Kanav Thaman</td>\n",
       "      <td>19-30</td>\n",
       "      <td>Male</td>\n",
       "      <td>CT117</td>\n",
       "      <td>103027</td>\n",
       "      <td>Daily</td>\n",
       "      <td>Before exercise</td>\n",
       "      <td>To boost performance</td>\n",
       "      <td>No</td>\n",
       "      <td>...</td>\n",
       "      <td>No</td>\n",
       "      <td>Not Sure</td>\n",
       "      <td>TV commercials</td>\n",
       "      <td>Innovative bottle design</td>\n",
       "      <td>No</td>\n",
       "      <td>50-99</td>\n",
       "      <td>Online retailers</td>\n",
       "      <td>Sports/exercise</td>\n",
       "      <td>Ahmedabad</td>\n",
       "      <td>Tier 2</td>\n",
       "    </tr>\n",
       "    <tr>\n",
       "      <th>3</th>\n",
       "      <td>120078</td>\n",
       "      <td>Suhana Ramakrishnan</td>\n",
       "      <td>19-30</td>\n",
       "      <td>Female</td>\n",
       "      <td>CT117</td>\n",
       "      <td>103048</td>\n",
       "      <td>Rarely</td>\n",
       "      <td>Before exercise</td>\n",
       "      <td>To enhance sports performance</td>\n",
       "      <td>No</td>\n",
       "      <td>...</td>\n",
       "      <td>Yes</td>\n",
       "      <td>Yes</td>\n",
       "      <td>TV commercials</td>\n",
       "      <td>Other</td>\n",
       "      <td>Not Sure</td>\n",
       "      <td>100-150</td>\n",
       "      <td>Supermarkets</td>\n",
       "      <td>Sports/exercise</td>\n",
       "      <td>Ahmedabad</td>\n",
       "      <td>Tier 2</td>\n",
       "    </tr>\n",
       "    <tr>\n",
       "      <th>4</th>\n",
       "      <td>120098</td>\n",
       "      <td>Saira Sridhar</td>\n",
       "      <td>19-30</td>\n",
       "      <td>Male</td>\n",
       "      <td>CT117</td>\n",
       "      <td>103068</td>\n",
       "      <td>Daily</td>\n",
       "      <td>Throughout the day</td>\n",
       "      <td>Other</td>\n",
       "      <td>No</td>\n",
       "      <td>...</td>\n",
       "      <td>Yes</td>\n",
       "      <td>No</td>\n",
       "      <td>TV commercials</td>\n",
       "      <td>Compact and portable cans</td>\n",
       "      <td>Yes</td>\n",
       "      <td>100-150</td>\n",
       "      <td>Other</td>\n",
       "      <td>Studying/working late</td>\n",
       "      <td>Ahmedabad</td>\n",
       "      <td>Tier 2</td>\n",
       "    </tr>\n",
       "  </tbody>\n",
       "</table>\n",
       "<p>5 rows × 29 columns</p>\n",
       "</div>"
      ],
      "text/plain": [
       "   Respondent_ID                 Name    Age      Gender City_ID  Response_ID  \\\n",
       "0         120031       Aniruddh Issac  15-18      Female   CT117       103001   \n",
       "1         120055         Umang Sarkar  31-45  Non-binary   CT117       103025   \n",
       "2         120057         Kanav Thaman  19-30        Male   CT117       103027   \n",
       "3         120078  Suhana Ramakrishnan  19-30      Female   CT117       103048   \n",
       "4         120098        Saira Sridhar  19-30        Male   CT117       103068   \n",
       "\n",
       "  Consume_frequency                     Consume_time  \\\n",
       "0  2-3 times a week  To stay awake during work/study   \n",
       "1       Once a week                  Before exercise   \n",
       "2             Daily                  Before exercise   \n",
       "3            Rarely                  Before exercise   \n",
       "4             Daily               Throughout the day   \n",
       "\n",
       "                  Consume_reason Heard_before  ... Health_concerns  \\\n",
       "0     Increased energy and focus          Yes  ...              No   \n",
       "1  To enhance sports performance          Yes  ...              No   \n",
       "2           To boost performance           No  ...              No   \n",
       "3  To enhance sports performance           No  ...             Yes   \n",
       "4                          Other           No  ...             Yes   \n",
       "\n",
       "  Interest_in_natural_or_organic  Marketing_channels  \\\n",
       "0                            Yes      TV commercials   \n",
       "1                             No  Outdoor billboards   \n",
       "2                       Not Sure      TV commercials   \n",
       "3                            Yes      TV commercials   \n",
       "4                             No      TV commercials   \n",
       "\n",
       "        Packaging_preference Limited_edition_packaging Price_range  \\\n",
       "0  Compact and portable cans                       Yes       50-99   \n",
       "1        Eco-friendly design                        No   Above 150   \n",
       "2   Innovative bottle design                        No       50-99   \n",
       "3                      Other                  Not Sure     100-150   \n",
       "4  Compact and portable cans                       Yes     100-150   \n",
       "\n",
       "          Purchase_location Typical_consumption_situations       City    Tier  \n",
       "0              Supermarkets          Studying/working late  Ahmedabad  Tier 2  \n",
       "1  Gyms and fitness centers          Studying/working late  Ahmedabad  Tier 2  \n",
       "2          Online retailers                Sports/exercise  Ahmedabad  Tier 2  \n",
       "3              Supermarkets                Sports/exercise  Ahmedabad  Tier 2  \n",
       "4                     Other          Studying/working late  Ahmedabad  Tier 2  \n",
       "\n",
       "[5 rows x 29 columns]"
      ]
     },
     "execution_count": 150,
     "metadata": {},
     "output_type": "execute_result"
    }
   ],
   "source": [
    "nndf = ndf.merge(dim_cities_df,on='City_ID')\n",
    "nndf.head()"
   ]
  },
  {
   "cell_type": "code",
   "execution_count": null,
   "id": "d0b62003",
   "metadata": {},
   "outputs": [],
   "source": []
  },
  {
   "cell_type": "code",
   "execution_count": 151,
   "id": "d1bbbde4",
   "metadata": {},
   "outputs": [
    {
     "data": {
      "text/html": [
       "<div>\n",
       "<style scoped>\n",
       "    .dataframe tbody tr th:only-of-type {\n",
       "        vertical-align: middle;\n",
       "    }\n",
       "\n",
       "    .dataframe tbody tr th {\n",
       "        vertical-align: top;\n",
       "    }\n",
       "\n",
       "    .dataframe thead th {\n",
       "        text-align: right;\n",
       "    }\n",
       "</style>\n",
       "<table border=\"1\" class=\"dataframe\">\n",
       "  <thead>\n",
       "    <tr style=\"text-align: right;\">\n",
       "      <th></th>\n",
       "      <th>Marketing_channels</th>\n",
       "    </tr>\n",
       "    <tr>\n",
       "      <th>Tier</th>\n",
       "      <th></th>\n",
       "    </tr>\n",
       "  </thead>\n",
       "  <tbody>\n",
       "    <tr>\n",
       "      <th>Tier 1</th>\n",
       "      <td>7537</td>\n",
       "    </tr>\n",
       "    <tr>\n",
       "      <th>Tier 2</th>\n",
       "      <td>2463</td>\n",
       "    </tr>\n",
       "  </tbody>\n",
       "</table>\n",
       "</div>"
      ],
      "text/plain": [
       "        Marketing_channels\n",
       "Tier                      \n",
       "Tier 1                7537\n",
       "Tier 2                2463"
      ]
     },
     "execution_count": 151,
     "metadata": {},
     "output_type": "execute_result"
    }
   ],
   "source": [
    "a = nndf.groupby('Tier')[['Marketing_channels']].count()\n",
    "a"
   ]
  },
  {
   "cell_type": "code",
   "execution_count": 152,
   "id": "3657a286",
   "metadata": {},
   "outputs": [
    {
     "data": {
      "image/png": "[encoded data removed]",
      "text/plain": [
       "<Figure size 1080x864 with 4 Axes>"
      ]
     },
     "metadata": {},
     "output_type": "display_data"
    }
   ],
   "source": [
    "#fig , axes = plt.subplots(2,2)\n",
    "\n",
    "fig, axes = plt.subplots(2, 2, figsize=(15, 12))\n",
    "\n",
    "axes[0,0].set_title('Marketing channels reaching to Cities', fontsize=15, color='grey')\n",
    "sns.countplot(y='City',\n",
    "              hue='Marketing_channels',\n",
    "              data=nndf,ax=axes[0,0],\n",
    "              palette='cividis',saturation=3.5);\n",
    "\n",
    "axes[0,0].set_xlabel('Reach', fontsize=15, color='grey')\n",
    "axes[0,0].set_ylabel('Cites', fontsize=15, color='grey')\n",
    "\n",
    "\n",
    "axes[0,1].set_title('Marketing channels reaching to Age-group', fontsize=15, color='grey')\n",
    "sns.countplot(x ='Marketing_channels',\n",
    "              data=ndf,ax=axes[0,1],\n",
    "              hue='Age',palette='magma',\n",
    "              saturation=3.5)\n",
    "\n",
    "axes[0,1].set_xlabel('Marketing_channels', fontsize=15, color='grey')\n",
    "axes[0,1].set_ylabel('Reach', fontsize=15, color='grey')\n",
    "#sns.histplot(x='Marketing_channels',data=ndf,bins=np.arange(0,5,0.5),ax=axes[0,1])\n",
    "\n",
    "axes[1,0].set_title('Marketing channels reaching to gender', fontsize=15, color='grey')\n",
    "sns.countplot(x='Gender',hue='Marketing_channels',\n",
    "              data=nndf,ax=axes[1,0],\n",
    "              palette='viridis',saturation=3.5);\n",
    "\n",
    "axes[1,0].set_xlabel('Gender', fontsize=15, color='grey')\n",
    "axes[1,0].set_ylabel('Reach', fontsize=15, color='grey')\n",
    "\n",
    "\n",
    "axes[1,1].set_title('Marketing channels reaching to Tier cities', fontsize=15, color='grey')\n",
    "axes[1,1].pie(a.Marketing_channels, \n",
    "              labels=a.index, \n",
    "              autopct ='%.1f%%', startangle = 90, \n",
    "        explode=[0.040,0.050] ,colors=['#b5cdca','#dfc731']);\n",
    "\n",
    "axes[1,1].set_xlabel('Tier', fontsize=15, color='grey');\n",
    "axes[1,1].set_ylabel('Reach', fontsize=15, color='grey');\n",
    "\n",
    "\n"
   ]
  },
  {
   "cell_type": "code",
   "execution_count": 153,
   "id": "2d605076",
   "metadata": {},
   "outputs": [
    {
     "data": {
      "text/plain": [
       "Index(['Respondent_ID', 'Name', 'Age', 'Gender', 'City_ID', 'Response_ID',\n",
       "       'Consume_frequency', 'Consume_time', 'Consume_reason', 'Heard_before',\n",
       "       'Brand_perception', 'General_perception', 'Tried_before',\n",
       "       'Taste_experience', 'Reasons_preventing_trying', 'Current_brands',\n",
       "       'Reasons_for_choosing_brands', 'Improvements_desired',\n",
       "       'Ingredients_expected', 'Health_concerns',\n",
       "       'Interest_in_natural_or_organic', 'Marketing_channels',\n",
       "       'Packaging_preference', 'Limited_edition_packaging', 'Price_range',\n",
       "       'Purchase_location', 'Typical_consumption_situations', 'City', 'Tier'],\n",
       "      dtype='object')"
      ]
     },
     "execution_count": 153,
     "metadata": {},
     "output_type": "execute_result"
    }
   ],
   "source": [
    "nndf.columns"
   ]
  },
  {
   "cell_type": "markdown",
   "id": "7f352395",
   "metadata": {},
   "source": [
    "### 5.  Brand Penetration:\n"
   ]
  },
  {
   "cell_type": "markdown",
   "id": "58ac59c3",
   "metadata": {},
   "source": [
    "### a. What do people think about our brand? (overall rating)\n"
   ]
  },
  {
   "cell_type": "code",
   "execution_count": 154,
   "id": "86a390b5",
   "metadata": {},
   "outputs": [
    {
     "data": {
      "text/html": [
       "<div>\n",
       "<style scoped>\n",
       "    .dataframe tbody tr th:only-of-type {\n",
       "        vertical-align: middle;\n",
       "    }\n",
       "\n",
       "    .dataframe tbody tr th {\n",
       "        vertical-align: top;\n",
       "    }\n",
       "\n",
       "    .dataframe thead th {\n",
       "        text-align: right;\n",
       "    }\n",
       "</style>\n",
       "<table border=\"1\" class=\"dataframe\">\n",
       "  <thead>\n",
       "    <tr style=\"text-align: right;\">\n",
       "      <th></th>\n",
       "      <th>Brand_perception</th>\n",
       "    </tr>\n",
       "    <tr>\n",
       "      <th>Brand_perception</th>\n",
       "      <th></th>\n",
       "    </tr>\n",
       "  </thead>\n",
       "  <tbody>\n",
       "    <tr>\n",
       "      <th>Negative</th>\n",
       "      <td>1769</td>\n",
       "    </tr>\n",
       "    <tr>\n",
       "      <th>Neutral</th>\n",
       "      <td>5974</td>\n",
       "    </tr>\n",
       "    <tr>\n",
       "      <th>Positive</th>\n",
       "      <td>2257</td>\n",
       "    </tr>\n",
       "  </tbody>\n",
       "</table>\n",
       "</div>"
      ],
      "text/plain": [
       "                  Brand_perception\n",
       "Brand_perception                  \n",
       "Negative                      1769\n",
       "Neutral                       5974\n",
       "Positive                      2257"
      ]
     },
     "execution_count": 154,
     "metadata": {},
     "output_type": "execute_result"
    }
   ],
   "source": [
    "brand_pt = nndf.groupby('Brand_perception')[['Brand_perception']].count()\n",
    "brand_pt"
   ]
  },
  {
   "cell_type": "code",
   "execution_count": 155,
   "id": "257f7380",
   "metadata": {},
   "outputs": [
    {
     "data": {
      "image/png": "[encoded data removed]",
      "text/plain": [
       "<Figure size 504x432 with 1 Axes>"
      ]
     },
     "metadata": {},
     "output_type": "display_data"
    }
   ],
   "source": [
    "plt.figure(figsize=(7,6))\n",
    "plt.pie(brand_pt.Brand_perception, labels=brand_pt.index, autopct ='%.1f%%', startangle = 90, \n",
    "        explode=[0.040,0.050,0.0] ,colors=['#7982B9','#E9F6FA','#A5C1DC']);\n",
    "plt.title('People thought on our brand');"
   ]
  },
  {
   "cell_type": "markdown",
   "id": "7ffc53b5",
   "metadata": {},
   "source": [
    "### b. Which cities do we need to focus more on?"
   ]
  },
  {
   "cell_type": "code",
   "execution_count": 156,
   "id": "a0e33795",
   "metadata": {},
   "outputs": [],
   "source": [
    "brand_city_pt = nndf.groupby('City')[['Brand_perception']].count()\n",
    "brand_city_pt = brand_city_pt.sort_values('Brand_perception',ascending=False)"
   ]
  },
  {
   "cell_type": "code",
   "execution_count": 157,
   "id": "9d386ba0",
   "metadata": {},
   "outputs": [
    {
     "data": {
      "image/png": "[encoded data removed]",
      "text/plain": [
       "<Figure size 648x432 with 1 Axes>"
      ]
     },
     "metadata": {},
     "output_type": "display_data"
    }
   ],
   "source": [
    "plt.figure(figsize=(9,6))\n",
    "sns.barplot(x=brand_city_pt.Brand_perception, y=brand_city_pt.index,saturation=1.5,palette='husl')\n",
    "plt.ylabel(\"\\nCities\\n\",fontsize=15, color='grey')\n",
    "plt.xlabel('\\nResponse\\n',fontsize=15, color='grey')\n",
    "plt.title('\\nCities needs to be focus more on\\n',fontsize=15, color='grey')\n",
    "plt.show()"
   ]
  },
  {
   "cell_type": "code",
   "execution_count": null,
   "id": "05321860",
   "metadata": {},
   "outputs": [],
   "source": []
  },
  {
   "cell_type": "markdown",
   "id": "82dddca2",
   "metadata": {},
   "source": [
    "## 6. Purchase Behavior:\n"
   ]
  },
  {
   "cell_type": "markdown",
   "id": "45129709",
   "metadata": {},
   "source": [
    "### a. Where do respondents prefer to purchase energy drinks?\n"
   ]
  },
  {
   "cell_type": "code",
   "execution_count": 158,
   "id": "eb3aee41",
   "metadata": {},
   "outputs": [
    {
     "data": {
      "text/html": [
       "<div>\n",
       "<style scoped>\n",
       "    .dataframe tbody tr th:only-of-type {\n",
       "        vertical-align: middle;\n",
       "    }\n",
       "\n",
       "    .dataframe tbody tr th {\n",
       "        vertical-align: top;\n",
       "    }\n",
       "\n",
       "    .dataframe thead th {\n",
       "        text-align: right;\n",
       "    }\n",
       "</style>\n",
       "<table border=\"1\" class=\"dataframe\">\n",
       "  <thead>\n",
       "    <tr style=\"text-align: right;\">\n",
       "      <th></th>\n",
       "      <th>Consume_frequency</th>\n",
       "    </tr>\n",
       "    <tr>\n",
       "      <th>Purchase_location</th>\n",
       "      <th></th>\n",
       "    </tr>\n",
       "  </thead>\n",
       "  <tbody>\n",
       "    <tr>\n",
       "      <th>Supermarkets</th>\n",
       "      <td>4494</td>\n",
       "    </tr>\n",
       "    <tr>\n",
       "      <th>Online retailers</th>\n",
       "      <td>2550</td>\n",
       "    </tr>\n",
       "    <tr>\n",
       "      <th>Gyms and fitness centers</th>\n",
       "      <td>1464</td>\n",
       "    </tr>\n",
       "    <tr>\n",
       "      <th>Local stores</th>\n",
       "      <td>813</td>\n",
       "    </tr>\n",
       "    <tr>\n",
       "      <th>Other</th>\n",
       "      <td>679</td>\n",
       "    </tr>\n",
       "  </tbody>\n",
       "</table>\n",
       "</div>"
      ],
      "text/plain": [
       "                          Consume_frequency\n",
       "Purchase_location                          \n",
       "Supermarkets                           4494\n",
       "Online retailers                       2550\n",
       "Gyms and fitness centers               1464\n",
       "Local stores                            813\n",
       "Other                                   679"
      ]
     },
     "execution_count": 158,
     "metadata": {},
     "output_type": "execute_result"
    }
   ],
   "source": [
    "purchase_df = nndf.groupby('Purchase_location')[['Consume_frequency']].count()\n",
    "purchase_df = purchase_df.sort_values('Consume_frequency',ascending=False)\n",
    "purchase_df"
   ]
  },
  {
   "cell_type": "code",
   "execution_count": 159,
   "id": "09922a8c",
   "metadata": {},
   "outputs": [
    {
     "data": {
      "image/png": "[encoded data removed]",
      "text/plain": [
       "<Figure size 648x432 with 1 Axes>"
      ]
     },
     "metadata": {},
     "output_type": "display_data"
    }
   ],
   "source": [
    "plt.figure(figsize=(9,6))\n",
    "sns.barplot(y=purchase_df.Consume_frequency, x=purchase_df.index,saturation=1.5,palette='Dark2')\n",
    "plt.ylabel(\"\\Response\\n\",fontsize=15, color='grey')\n",
    "plt.xlabel('\\npurchase location\\n',fontsize=15, color='grey')\n",
    "plt.title('\\nRespondents  purchasing energy drinks\\n',fontsize=15, color='grey')\n",
    "plt.show()"
   ]
  },
  {
   "cell_type": "markdown",
   "id": "ab6ddf9c",
   "metadata": {},
   "source": [
    "### b. What are the typical consumption situations for energy drinks among respondents?"
   ]
  },
  {
   "cell_type": "code",
   "execution_count": 160,
   "id": "d293233a",
   "metadata": {},
   "outputs": [
    {
     "data": {
      "text/html": [
       "<div>\n",
       "<style scoped>\n",
       "    .dataframe tbody tr th:only-of-type {\n",
       "        vertical-align: middle;\n",
       "    }\n",
       "\n",
       "    .dataframe tbody tr th {\n",
       "        vertical-align: top;\n",
       "    }\n",
       "\n",
       "    .dataframe thead th {\n",
       "        text-align: right;\n",
       "    }\n",
       "</style>\n",
       "<table border=\"1\" class=\"dataframe\">\n",
       "  <thead>\n",
       "    <tr style=\"text-align: right;\">\n",
       "      <th></th>\n",
       "      <th>Consume_frequency</th>\n",
       "    </tr>\n",
       "    <tr>\n",
       "      <th>Typical_consumption_situations</th>\n",
       "      <th></th>\n",
       "    </tr>\n",
       "  </thead>\n",
       "  <tbody>\n",
       "    <tr>\n",
       "      <th>Sports/exercise</th>\n",
       "      <td>4494</td>\n",
       "    </tr>\n",
       "    <tr>\n",
       "      <th>Studying/working late</th>\n",
       "      <td>3231</td>\n",
       "    </tr>\n",
       "    <tr>\n",
       "      <th>Social outings/parties</th>\n",
       "      <td>1487</td>\n",
       "    </tr>\n",
       "    <tr>\n",
       "      <th>Other</th>\n",
       "      <td>491</td>\n",
       "    </tr>\n",
       "    <tr>\n",
       "      <th>Driving/commuting</th>\n",
       "      <td>297</td>\n",
       "    </tr>\n",
       "  </tbody>\n",
       "</table>\n",
       "</div>"
      ],
      "text/plain": [
       "                                Consume_frequency\n",
       "Typical_consumption_situations                   \n",
       "Sports/exercise                              4494\n",
       "Studying/working late                        3231\n",
       "Social outings/parties                       1487\n",
       "Other                                         491\n",
       "Driving/commuting                             297"
      ]
     },
     "execution_count": 160,
     "metadata": {},
     "output_type": "execute_result"
    }
   ],
   "source": [
    "consume_df = nndf.groupby('Typical_consumption_situations')[['Consume_frequency']].count()\n",
    "consume_df = consume_df.sort_values('Consume_frequency',ascending=False)\n",
    "consume_df"
   ]
  },
  {
   "cell_type": "code",
   "execution_count": 161,
   "id": "b3e0e3ec",
   "metadata": {},
   "outputs": [
    {
     "data": {
      "image/png": "[encoded data removed]",
      "text/plain": [
       "<Figure size 720x432 with 1 Axes>"
      ]
     },
     "metadata": {},
     "output_type": "display_data"
    }
   ],
   "source": [
    "plt.figure(figsize=(10,6))\n",
    "plt.bar(x=consume_df.index,height=consume_df.Consume_frequency,align='center',color=['#E6F69D','#AADEA7','#64C2A6','#2D87BB','#0a417a'])\n",
    "plt.xlabel(\"\\nReason\\n\",fontsize=15, color='grey')\n",
    "plt.ylabel('\\Response\\n',fontsize=15, color='grey')\n",
    "plt.title('\\nConsumption situations for energy drinks among respondents\\n',fontsize=15, color='grey')\n",
    "plt.show()"
   ]
  },
  {
   "cell_type": "markdown",
   "id": "46411ad2",
   "metadata": {},
   "source": [
    "### c. What factors influence respondents' purchase decisions, such as price range and limited edition packaging?"
   ]
  },
  {
   "cell_type": "markdown",
   "id": "827e8ff8",
   "metadata": {},
   "source": [
    "For representing this we can use the suplots for better understanding"
   ]
  },
  {
   "cell_type": "code",
   "execution_count": 162,
   "id": "bbc24df6",
   "metadata": {},
   "outputs": [
    {
     "data": {
      "image/png": "[encoded data removed]",
      "text/plain": [
       "<Figure size 1080x360 with 2 Axes>"
      ]
     },
     "metadata": {},
     "output_type": "display_data"
    }
   ],
   "source": [
    "fig, axes = plt.subplots(1,2, figsize=(15, 5))\n",
    "\n",
    "axes[0].set_title('Price factor', fontsize=15, color='grey')\n",
    "sns.histplot(x=nndf['Price_range'],ax=axes[0],color='#92A951');\n",
    "\n",
    "axes[0].set_xlabel('Price', fontsize=15, color='grey')\n",
    "axes[0].set_ylabel('Reach', fontsize=15, color='grey')\n",
    "\n",
    "\n",
    "axes[1].set_title('Limited edition packaging factor', fontsize=15, color='grey')\n",
    "axes[1].pie(nndf['Limited_edition_packaging'].value_counts(),\n",
    "            labels=nndf.Limited_edition_packaging.unique(),\n",
    "            autopct ='%.1f%%', startangle = 90, \n",
    "        explode=[0.040,0.050,0.0] ,colors=['#f9d9f9','#E9F6FA','#ed3896']);\n",
    "\n",
    "axes[1].set_xlabel('Response', fontsize=15, color='grey');\n",
    "axes[1].set_ylabel('Reach', fontsize=15, color='grey');\n",
    "\n"
   ]
  },
  {
   "cell_type": "markdown",
   "id": "556560e7",
   "metadata": {},
   "source": [
    "### 7. Product Development\n",
    "a. Which area of business should we focus more on our product development? \n",
    "(Branding/taste/availability"
   ]
  },
  {
   "cell_type": "code",
   "execution_count": 163,
   "id": "1e1e795c",
   "metadata": {},
   "outputs": [
    {
     "data": {
      "text/html": [
       "<div>\n",
       "<style scoped>\n",
       "    .dataframe tbody tr th:only-of-type {\n",
       "        vertical-align: middle;\n",
       "    }\n",
       "\n",
       "    .dataframe tbody tr th {\n",
       "        vertical-align: top;\n",
       "    }\n",
       "\n",
       "    .dataframe thead th {\n",
       "        text-align: right;\n",
       "    }\n",
       "</style>\n",
       "<table border=\"1\" class=\"dataframe\">\n",
       "  <thead>\n",
       "    <tr style=\"text-align: right;\">\n",
       "      <th></th>\n",
       "      <th>Taste_experience</th>\n",
       "    </tr>\n",
       "    <tr>\n",
       "      <th>Current_brands</th>\n",
       "      <th></th>\n",
       "    </tr>\n",
       "  </thead>\n",
       "  <tbody>\n",
       "    <tr>\n",
       "      <th>Cola-Coka</th>\n",
       "      <td>2538</td>\n",
       "    </tr>\n",
       "    <tr>\n",
       "      <th>Bepsi</th>\n",
       "      <td>2112</td>\n",
       "    </tr>\n",
       "    <tr>\n",
       "      <th>Gangster</th>\n",
       "      <td>1854</td>\n",
       "    </tr>\n",
       "    <tr>\n",
       "      <th>Blue Bull</th>\n",
       "      <td>1058</td>\n",
       "    </tr>\n",
       "    <tr>\n",
       "      <th>CodeX</th>\n",
       "      <td>980</td>\n",
       "    </tr>\n",
       "    <tr>\n",
       "      <th>Sky 9</th>\n",
       "      <td>979</td>\n",
       "    </tr>\n",
       "    <tr>\n",
       "      <th>Others</th>\n",
       "      <td>479</td>\n",
       "    </tr>\n",
       "  </tbody>\n",
       "</table>\n",
       "</div>"
      ],
      "text/plain": [
       "                Taste_experience\n",
       "Current_brands                  \n",
       "Cola-Coka                   2538\n",
       "Bepsi                       2112\n",
       "Gangster                    1854\n",
       "Blue Bull                   1058\n",
       "CodeX                        980\n",
       "Sky 9                        979\n",
       "Others                       479"
      ]
     },
     "execution_count": 163,
     "metadata": {},
     "output_type": "execute_result"
    }
   ],
   "source": [
    "Taste_df = nndf.groupby('Current_brands')[['Taste_experience']].count().sort_values('Taste_experience',ascending=False)\n",
    "Taste_df\n",
    "\n",
    "# taken count of the response of the taste  by the consumer"
   ]
  },
  {
   "cell_type": "code",
   "execution_count": 164,
   "id": "0b0e4198",
   "metadata": {},
   "outputs": [
    {
     "data": {
      "text/html": [
       "<div>\n",
       "<style scoped>\n",
       "    .dataframe tbody tr th:only-of-type {\n",
       "        vertical-align: middle;\n",
       "    }\n",
       "\n",
       "    .dataframe tbody tr th {\n",
       "        vertical-align: top;\n",
       "    }\n",
       "\n",
       "    .dataframe thead th {\n",
       "        text-align: right;\n",
       "    }\n",
       "</style>\n",
       "<table border=\"1\" class=\"dataframe\">\n",
       "  <thead>\n",
       "    <tr style=\"text-align: right;\">\n",
       "      <th></th>\n",
       "      <th>Consume_frequency</th>\n",
       "    </tr>\n",
       "    <tr>\n",
       "      <th>Current_brands</th>\n",
       "      <th></th>\n",
       "    </tr>\n",
       "  </thead>\n",
       "  <tbody>\n",
       "    <tr>\n",
       "      <th>Cola-Coka</th>\n",
       "      <td>510</td>\n",
       "    </tr>\n",
       "    <tr>\n",
       "      <th>Bepsi</th>\n",
       "      <td>418</td>\n",
       "    </tr>\n",
       "    <tr>\n",
       "      <th>Gangster</th>\n",
       "      <td>339</td>\n",
       "    </tr>\n",
       "    <tr>\n",
       "      <th>CodeX</th>\n",
       "      <td>195</td>\n",
       "    </tr>\n",
       "    <tr>\n",
       "      <th>Sky 9</th>\n",
       "      <td>182</td>\n",
       "    </tr>\n",
       "    <tr>\n",
       "      <th>Blue Bull</th>\n",
       "      <td>180</td>\n",
       "    </tr>\n",
       "    <tr>\n",
       "      <th>Others</th>\n",
       "      <td>86</td>\n",
       "    </tr>\n",
       "  </tbody>\n",
       "</table>\n",
       "</div>"
      ],
      "text/plain": [
       "                Consume_frequency\n",
       "Current_brands                   \n",
       "Cola-Coka                     510\n",
       "Bepsi                         418\n",
       "Gangster                      339\n",
       "CodeX                         195\n",
       "Sky 9                         182\n",
       "Blue Bull                     180\n",
       "Others                         86"
      ]
     },
     "execution_count": 164,
     "metadata": {},
     "output_type": "execute_result"
    }
   ],
   "source": [
    "filtered_df = nndf[nndf['Reasons_for_choosing_brands'] == 'Availability']\n",
    "Available_df = filtered_df.groupby('Current_brands')[['Consume_frequency']].count().sort_values('Consume_frequency',ascending=False)\n",
    "Available_df"
   ]
  },
  {
   "cell_type": "code",
   "execution_count": 165,
   "id": "1d2f439e",
   "metadata": {},
   "outputs": [
    {
     "data": {
      "text/html": [
       "<div>\n",
       "<style scoped>\n",
       "    .dataframe tbody tr th:only-of-type {\n",
       "        vertical-align: middle;\n",
       "    }\n",
       "\n",
       "    .dataframe tbody tr th {\n",
       "        vertical-align: top;\n",
       "    }\n",
       "\n",
       "    .dataframe thead th {\n",
       "        text-align: right;\n",
       "    }\n",
       "</style>\n",
       "<table border=\"1\" class=\"dataframe\">\n",
       "  <thead>\n",
       "    <tr style=\"text-align: right;\">\n",
       "      <th></th>\n",
       "      <th>Consume_frequency</th>\n",
       "    </tr>\n",
       "    <tr>\n",
       "      <th>Current_brands</th>\n",
       "      <th></th>\n",
       "    </tr>\n",
       "  </thead>\n",
       "  <tbody>\n",
       "    <tr>\n",
       "      <th>Cola-Coka</th>\n",
       "      <td>616</td>\n",
       "    </tr>\n",
       "    <tr>\n",
       "      <th>Bepsi</th>\n",
       "      <td>577</td>\n",
       "    </tr>\n",
       "    <tr>\n",
       "      <th>Gangster</th>\n",
       "      <td>511</td>\n",
       "    </tr>\n",
       "    <tr>\n",
       "      <th>Blue Bull</th>\n",
       "      <td>289</td>\n",
       "    </tr>\n",
       "    <tr>\n",
       "      <th>Sky 9</th>\n",
       "      <td>260</td>\n",
       "    </tr>\n",
       "    <tr>\n",
       "      <th>CodeX</th>\n",
       "      <td>259</td>\n",
       "    </tr>\n",
       "    <tr>\n",
       "      <th>Others</th>\n",
       "      <td>140</td>\n",
       "    </tr>\n",
       "  </tbody>\n",
       "</table>\n",
       "</div>"
      ],
      "text/plain": [
       "                Consume_frequency\n",
       "Current_brands                   \n",
       "Cola-Coka                     616\n",
       "Bepsi                         577\n",
       "Gangster                      511\n",
       "Blue Bull                     289\n",
       "Sky 9                         260\n",
       "CodeX                         259\n",
       "Others                        140"
      ]
     },
     "execution_count": 165,
     "metadata": {},
     "output_type": "execute_result"
    }
   ],
   "source": [
    "filtered_df = nndf[nndf['Reasons_for_choosing_brands'] == 'Brand reputation']\n",
    "Brand_df = filtered_df.groupby('Current_brands')[['Consume_frequency']].count().sort_values('Consume_frequency',ascending=False)\n",
    "Brand_df"
   ]
  },
  {
   "cell_type": "code",
   "execution_count": 166,
   "id": "31f86eb9",
   "metadata": {},
   "outputs": [
    {
     "data": {
      "image/png": "[encoded data removed]",
      "text/plain": [
       "<Figure size 1656x432 with 3 Axes>"
      ]
     },
     "metadata": {},
     "output_type": "display_data"
    }
   ],
   "source": [
    "fig, axes = plt.subplots(1,3 ,figsize=(23, 6))\n",
    "\n",
    "axes[0].set_title('Taste_experience', fontsize=15, color='grey')\n",
    "sns.barplot(y=Taste_df.Taste_experience,\n",
    "            x=Taste_df.index,ax=axes[0],\n",
    "            color='#008080');\n",
    "\n",
    "axes[0].set_xlabel('Brand', fontsize=15, color='grey')\n",
    "axes[0].set_ylabel('Reach', fontsize=15, color='grey')\n",
    "\n",
    "\n",
    "axes[1].set_title('Product_Availability', fontsize=15, color='grey')\n",
    "sns.barplot(y=Available_df.index,x=Available_df.Consume_frequency,\n",
    "            ax=axes[1],saturation=3.5,\n",
    "            palette='cividis');\n",
    "\n",
    "axes[1].set_xlabel('Response', fontsize=15, color='grey');\n",
    "axes[1].set_ylabel('Brands', fontsize=15, color='grey');\n",
    "\n",
    "\n",
    "axes[2].set_title('Brand perception', fontsize=15, color='grey')\n",
    "sns.barplot(x=Brand_df.index,y=Brand_df.Consume_frequency,\n",
    "            ax=axes[2],saturation=3.5,\n",
    "            palette='summer');\n",
    "\n",
    "axes[2].set_ylabel('Response', fontsize=15, color='grey');\n",
    "axes[2].set_xlabel('Brands', fontsize=15, color='grey');\n",
    "\n"
   ]
  },
  {
   "cell_type": "markdown",
   "id": "59c08a6a",
   "metadata": {},
   "source": [
    "#### now let's focous on Codex Company"
   ]
  },
  {
   "cell_type": "code",
   "execution_count": 167,
   "id": "f2b2f4cc",
   "metadata": {},
   "outputs": [
    {
     "data": {
      "text/html": [
       "<div>\n",
       "<style scoped>\n",
       "    .dataframe tbody tr th:only-of-type {\n",
       "        vertical-align: middle;\n",
       "    }\n",
       "\n",
       "    .dataframe tbody tr th {\n",
       "        vertical-align: top;\n",
       "    }\n",
       "\n",
       "    .dataframe thead th {\n",
       "        text-align: right;\n",
       "    }\n",
       "</style>\n",
       "<table border=\"1\" class=\"dataframe\">\n",
       "  <thead>\n",
       "    <tr style=\"text-align: right;\">\n",
       "      <th></th>\n",
       "      <th>Respondent_ID</th>\n",
       "      <th>Name</th>\n",
       "      <th>Age</th>\n",
       "      <th>Gender</th>\n",
       "      <th>City_ID</th>\n",
       "      <th>Response_ID</th>\n",
       "      <th>Consume_frequency</th>\n",
       "      <th>Consume_time</th>\n",
       "      <th>Consume_reason</th>\n",
       "      <th>Heard_before</th>\n",
       "      <th>...</th>\n",
       "      <th>Health_concerns</th>\n",
       "      <th>Interest_in_natural_or_organic</th>\n",
       "      <th>Marketing_channels</th>\n",
       "      <th>Packaging_preference</th>\n",
       "      <th>Limited_edition_packaging</th>\n",
       "      <th>Price_range</th>\n",
       "      <th>Purchase_location</th>\n",
       "      <th>Typical_consumption_situations</th>\n",
       "      <th>City</th>\n",
       "      <th>Tier</th>\n",
       "    </tr>\n",
       "  </thead>\n",
       "  <tbody>\n",
       "    <tr>\n",
       "      <th>10</th>\n",
       "      <td>120184</td>\n",
       "      <td>Amani Krishnamurthy</td>\n",
       "      <td>19-30</td>\n",
       "      <td>Male</td>\n",
       "      <td>CT117</td>\n",
       "      <td>103154</td>\n",
       "      <td>2-3 times a month</td>\n",
       "      <td>Before exercise</td>\n",
       "      <td>Increased energy and focus</td>\n",
       "      <td>No</td>\n",
       "      <td>...</td>\n",
       "      <td>Yes</td>\n",
       "      <td>Yes</td>\n",
       "      <td>Outdoor billboards</td>\n",
       "      <td>Innovative bottle design</td>\n",
       "      <td>Yes</td>\n",
       "      <td>Below 50</td>\n",
       "      <td>Supermarkets</td>\n",
       "      <td>Sports/exercise</td>\n",
       "      <td>Ahmedabad</td>\n",
       "      <td>Tier 2</td>\n",
       "    </tr>\n",
       "    <tr>\n",
       "      <th>11</th>\n",
       "      <td>120185</td>\n",
       "      <td>Aarav Rana</td>\n",
       "      <td>19-30</td>\n",
       "      <td>Male</td>\n",
       "      <td>CT117</td>\n",
       "      <td>103155</td>\n",
       "      <td>2-3 times a week</td>\n",
       "      <td>For mental alertness</td>\n",
       "      <td>To boost performance</td>\n",
       "      <td>Yes</td>\n",
       "      <td>...</td>\n",
       "      <td>Yes</td>\n",
       "      <td>Yes</td>\n",
       "      <td>TV commercials</td>\n",
       "      <td>Compact and portable cans</td>\n",
       "      <td>No</td>\n",
       "      <td>50-99</td>\n",
       "      <td>Online retailers</td>\n",
       "      <td>Sports/exercise</td>\n",
       "      <td>Ahmedabad</td>\n",
       "      <td>Tier 2</td>\n",
       "    </tr>\n",
       "    <tr>\n",
       "      <th>25</th>\n",
       "      <td>120471</td>\n",
       "      <td>Yuvraj  Acharya</td>\n",
       "      <td>31-45</td>\n",
       "      <td>Female</td>\n",
       "      <td>CT117</td>\n",
       "      <td>103441</td>\n",
       "      <td>Rarely</td>\n",
       "      <td>For mental alertness</td>\n",
       "      <td>Increased energy and focus</td>\n",
       "      <td>Yes</td>\n",
       "      <td>...</td>\n",
       "      <td>No</td>\n",
       "      <td>Not Sure</td>\n",
       "      <td>Online ads</td>\n",
       "      <td>Innovative bottle design</td>\n",
       "      <td>Not Sure</td>\n",
       "      <td>Below 50</td>\n",
       "      <td>Online retailers</td>\n",
       "      <td>Sports/exercise</td>\n",
       "      <td>Ahmedabad</td>\n",
       "      <td>Tier 2</td>\n",
       "    </tr>\n",
       "    <tr>\n",
       "      <th>27</th>\n",
       "      <td>120520</td>\n",
       "      <td>Miraya D’Alia</td>\n",
       "      <td>19-30</td>\n",
       "      <td>Female</td>\n",
       "      <td>CT117</td>\n",
       "      <td>103490</td>\n",
       "      <td>Rarely</td>\n",
       "      <td>Before exercise</td>\n",
       "      <td>Increased energy and focus</td>\n",
       "      <td>Yes</td>\n",
       "      <td>...</td>\n",
       "      <td>No</td>\n",
       "      <td>Not Sure</td>\n",
       "      <td>Print media</td>\n",
       "      <td>Eco-friendly design</td>\n",
       "      <td>Not Sure</td>\n",
       "      <td>50-99</td>\n",
       "      <td>Online retailers</td>\n",
       "      <td>Sports/exercise</td>\n",
       "      <td>Ahmedabad</td>\n",
       "      <td>Tier 2</td>\n",
       "    </tr>\n",
       "    <tr>\n",
       "      <th>32</th>\n",
       "      <td>120634</td>\n",
       "      <td>Faiyaz Tank</td>\n",
       "      <td>19-30</td>\n",
       "      <td>Female</td>\n",
       "      <td>CT117</td>\n",
       "      <td>103604</td>\n",
       "      <td>Rarely</td>\n",
       "      <td>For mental alertness</td>\n",
       "      <td>To combat fatigue</td>\n",
       "      <td>Yes</td>\n",
       "      <td>...</td>\n",
       "      <td>Yes</td>\n",
       "      <td>Yes</td>\n",
       "      <td>Online ads</td>\n",
       "      <td>Innovative bottle design</td>\n",
       "      <td>No</td>\n",
       "      <td>Above 150</td>\n",
       "      <td>Other</td>\n",
       "      <td>Studying/working late</td>\n",
       "      <td>Ahmedabad</td>\n",
       "      <td>Tier 2</td>\n",
       "    </tr>\n",
       "  </tbody>\n",
       "</table>\n",
       "<p>5 rows × 29 columns</p>\n",
       "</div>"
      ],
      "text/plain": [
       "    Respondent_ID                 Name    Age  Gender City_ID  Response_ID  \\\n",
       "10         120184  Amani Krishnamurthy  19-30    Male   CT117       103154   \n",
       "11         120185           Aarav Rana  19-30    Male   CT117       103155   \n",
       "25         120471      Yuvraj  Acharya  31-45  Female   CT117       103441   \n",
       "27         120520        Miraya D’Alia  19-30  Female   CT117       103490   \n",
       "32         120634          Faiyaz Tank  19-30  Female   CT117       103604   \n",
       "\n",
       "    Consume_frequency          Consume_time              Consume_reason  \\\n",
       "10  2-3 times a month       Before exercise  Increased energy and focus   \n",
       "11   2-3 times a week  For mental alertness        To boost performance   \n",
       "25             Rarely  For mental alertness  Increased energy and focus   \n",
       "27             Rarely       Before exercise  Increased energy and focus   \n",
       "32             Rarely  For mental alertness           To combat fatigue   \n",
       "\n",
       "   Heard_before  ... Health_concerns Interest_in_natural_or_organic  \\\n",
       "10           No  ...             Yes                            Yes   \n",
       "11          Yes  ...             Yes                            Yes   \n",
       "25          Yes  ...              No                       Not Sure   \n",
       "27          Yes  ...              No                       Not Sure   \n",
       "32          Yes  ...             Yes                            Yes   \n",
       "\n",
       "    Marketing_channels       Packaging_preference Limited_edition_packaging  \\\n",
       "10  Outdoor billboards   Innovative bottle design                       Yes   \n",
       "11      TV commercials  Compact and portable cans                        No   \n",
       "25          Online ads   Innovative bottle design                  Not Sure   \n",
       "27         Print media        Eco-friendly design                  Not Sure   \n",
       "32          Online ads   Innovative bottle design                        No   \n",
       "\n",
       "   Price_range Purchase_location Typical_consumption_situations       City  \\\n",
       "10    Below 50      Supermarkets                Sports/exercise  Ahmedabad   \n",
       "11       50-99  Online retailers                Sports/exercise  Ahmedabad   \n",
       "25    Below 50  Online retailers                Sports/exercise  Ahmedabad   \n",
       "27       50-99  Online retailers                Sports/exercise  Ahmedabad   \n",
       "32   Above 150             Other          Studying/working late  Ahmedabad   \n",
       "\n",
       "      Tier  \n",
       "10  Tier 2  \n",
       "11  Tier 2  \n",
       "25  Tier 2  \n",
       "27  Tier 2  \n",
       "32  Tier 2  \n",
       "\n",
       "[5 rows x 29 columns]"
      ]
     },
     "execution_count": 167,
     "metadata": {},
     "output_type": "execute_result"
    }
   ],
   "source": [
    "codex_df =  nndf[nndf['Current_brands'] == 'CodeX']\n",
    "codex_df.head()"
   ]
  },
  {
   "cell_type": "code",
   "execution_count": null,
   "id": "f083d07c",
   "metadata": {},
   "outputs": [],
   "source": []
  },
  {
   "cell_type": "code",
   "execution_count": 168,
   "id": "7f085ab9",
   "metadata": {},
   "outputs": [
    {
     "data": {
      "image/png": "[encoded data removed]",
      "text/plain": [
       "<Figure size 1296x864 with 4 Axes>"
      ]
     },
     "metadata": {},
     "output_type": "display_data"
    }
   ],
   "source": [
    "fig, axes = plt.subplots(2, 2, figsize=(18, 12))\n",
    "\n",
    "axes[0,0].set_title('Improvements_desired to Codex', fontsize=15, color='grey')\n",
    "sns.countplot(y='Improvements_desired',\n",
    "              data=codex_df,ax=axes[0,0],\n",
    "              palette='rocket',saturation=3.5);\n",
    "\n",
    "axes[0,0].set_xlabel('Reach', fontsize=15, color='grey')\n",
    "axes[0,0].set_ylabel('Improvements_desired', fontsize=15, color='grey')\n",
    "\n",
    "\n",
    "axes[1,0].set_title('Reasons_preventing_trying to Codex', fontsize=15, color='grey')\n",
    "sns.countplot(y ='Reasons_preventing_trying',\n",
    "              data=codex_df,ax=axes[1,0],\n",
    "              palette='winter',saturation=3.5)\n",
    "\n",
    "axes[1,0].set_ylabel('Reason', fontsize=15, color='grey')\n",
    "axes[1,0].set_xlabel('Reach', fontsize=15, color='grey')\n",
    "\n",
    "\n",
    "axes[0,1].set_title('Health_concerns', fontsize=15, color='grey')\n",
    "axes[0,1].pie(codex_df['Health_concerns'].value_counts(),\n",
    "              labels=codex_df.Health_concerns.unique(), \n",
    "              autopct ='%.1f%%', startangle = 90, \n",
    "              explode=[0.040,0.050] ,colors=['#FF6347','#FFA500']);\n",
    "\n",
    "axes[0,1].set_xlabel('Reason', fontsize=15, color='grey');\n",
    "axes[0,1].set_ylabel('Reach', fontsize=15, color='grey');\n",
    "\n",
    "\n",
    "axes[1,1].set_title('Interest_in_natural_or_organic', fontsize=15, color='grey')\n",
    "axes[1,1].pie(codex_df['Interest_in_natural_or_organic'].value_counts(),\n",
    "              labels=codex_df.Interest_in_natural_or_organic.unique(), \n",
    "              autopct ='%.1f%%', startangle = 90, \n",
    "              explode=[0.040,0.050,0.0] ,colors=['#D8BFD8','#E6E6FA','#E9F6FA']);\n",
    "\n",
    "axes[1,1].set_xlabel('Reason', fontsize=15, color='grey');\n",
    "axes[1,1].set_ylabel('Reach', fontsize=15, color='grey');\n",
    "\n"
   ]
  },
  {
   "cell_type": "markdown",
   "id": "b092234b",
   "metadata": {},
   "source": [
    "### Tier 1 and Tier 2 cities"
   ]
  },
  {
   "cell_type": "code",
   "execution_count": 169,
   "id": "d1edafea",
   "metadata": {},
   "outputs": [
    {
     "data": {
      "text/html": [
       "<div>\n",
       "<style scoped>\n",
       "    .dataframe tbody tr th:only-of-type {\n",
       "        vertical-align: middle;\n",
       "    }\n",
       "\n",
       "    .dataframe tbody tr th {\n",
       "        vertical-align: top;\n",
       "    }\n",
       "\n",
       "    .dataframe thead th {\n",
       "        text-align: right;\n",
       "    }\n",
       "</style>\n",
       "<table border=\"1\" class=\"dataframe\">\n",
       "  <thead>\n",
       "    <tr style=\"text-align: right;\">\n",
       "      <th></th>\n",
       "      <th>Consume_frequency</th>\n",
       "    </tr>\n",
       "    <tr>\n",
       "      <th>City</th>\n",
       "      <th></th>\n",
       "    </tr>\n",
       "  </thead>\n",
       "  <tbody>\n",
       "    <tr>\n",
       "      <th>Bangalore</th>\n",
       "      <td>2828</td>\n",
       "    </tr>\n",
       "    <tr>\n",
       "      <th>Hyderabad</th>\n",
       "      <td>1833</td>\n",
       "    </tr>\n",
       "    <tr>\n",
       "      <th>Mumbai</th>\n",
       "      <td>1510</td>\n",
       "    </tr>\n",
       "    <tr>\n",
       "      <th>Chennai</th>\n",
       "      <td>937</td>\n",
       "    </tr>\n",
       "    <tr>\n",
       "      <th>Delhi</th>\n",
       "      <td>429</td>\n",
       "    </tr>\n",
       "  </tbody>\n",
       "</table>\n",
       "</div>"
      ],
      "text/plain": [
       "           Consume_frequency\n",
       "City                        \n",
       "Bangalore               2828\n",
       "Hyderabad               1833\n",
       "Mumbai                  1510\n",
       "Chennai                  937\n",
       "Delhi                    429"
      ]
     },
     "execution_count": 169,
     "metadata": {},
     "output_type": "execute_result"
    }
   ],
   "source": [
    "filtered_df = nndf[nndf['Tier'] == 'Tier 1']\n",
    "T1_df = filtered_df.groupby('City')[['Consume_frequency']].count().sort_values('Consume_frequency',ascending=False)\n",
    "T1_df"
   ]
  },
  {
   "cell_type": "code",
   "execution_count": 170,
   "id": "96c2e3e3",
   "metadata": {},
   "outputs": [
    {
     "data": {
      "text/html": [
       "<div>\n",
       "<style scoped>\n",
       "    .dataframe tbody tr th:only-of-type {\n",
       "        vertical-align: middle;\n",
       "    }\n",
       "\n",
       "    .dataframe tbody tr th {\n",
       "        vertical-align: top;\n",
       "    }\n",
       "\n",
       "    .dataframe thead th {\n",
       "        text-align: right;\n",
       "    }\n",
       "</style>\n",
       "<table border=\"1\" class=\"dataframe\">\n",
       "  <thead>\n",
       "    <tr style=\"text-align: right;\">\n",
       "      <th></th>\n",
       "      <th>Consume_frequency</th>\n",
       "    </tr>\n",
       "    <tr>\n",
       "      <th>City</th>\n",
       "      <th></th>\n",
       "    </tr>\n",
       "  </thead>\n",
       "  <tbody>\n",
       "    <tr>\n",
       "      <th>Pune</th>\n",
       "      <td>906</td>\n",
       "    </tr>\n",
       "    <tr>\n",
       "      <th>Kolkata</th>\n",
       "      <td>566</td>\n",
       "    </tr>\n",
       "    <tr>\n",
       "      <th>Ahmedabad</th>\n",
       "      <td>456</td>\n",
       "    </tr>\n",
       "    <tr>\n",
       "      <th>Jaipur</th>\n",
       "      <td>360</td>\n",
       "    </tr>\n",
       "    <tr>\n",
       "      <th>Lucknow</th>\n",
       "      <td>175</td>\n",
       "    </tr>\n",
       "  </tbody>\n",
       "</table>\n",
       "</div>"
      ],
      "text/plain": [
       "           Consume_frequency\n",
       "City                        \n",
       "Pune                     906\n",
       "Kolkata                  566\n",
       "Ahmedabad                456\n",
       "Jaipur                   360\n",
       "Lucknow                  175"
      ]
     },
     "execution_count": 170,
     "metadata": {},
     "output_type": "execute_result"
    }
   ],
   "source": [
    "filtered_df = nndf[nndf['Tier'] == 'Tier 2']\n",
    "T2_df = filtered_df.groupby('City')[['Consume_frequency']].count().sort_values('Consume_frequency',ascending=False)\n",
    "T2_df"
   ]
  },
  {
   "cell_type": "code",
   "execution_count": 171,
   "id": "d6849a35",
   "metadata": {},
   "outputs": [
    {
     "data": {
      "image/png": "[encoded data removed]",
      "text/plain": [
       "<Figure size 1080x360 with 2 Axes>"
      ]
     },
     "metadata": {},
     "output_type": "display_data"
    }
   ],
   "source": [
    "fig, axes = plt.subplots(1,2, figsize=(15, 5))\n",
    "\n",
    "axes[0].set_title('Tier 1 cities', fontsize=15, color='grey')\n",
    "sns.barplot(x=T1_df.index,y=T1_df.Consume_frequency,ax=axes[0],color='#66CDAA');\n",
    "\n",
    "axes[0].set_xlabel('city', fontsize=15, color='grey')\n",
    "axes[0].set_ylabel('Reach', fontsize=15, color='grey')\n",
    "\n",
    "\n",
    "axes[1].set_title('Tier 2 Cities', fontsize=15, color='grey')\n",
    "sns.barplot(x=T2_df.index,y=T2_df.Consume_frequency,ax=axes[1],color='plum');\n",
    "\n",
    "axes[1].set_xlabel('City', fontsize=15, color='grey');\n",
    "axes[1].set_ylabel('Reach', fontsize=15, color='grey');"
   ]
  },
  {
   "cell_type": "markdown",
   "id": "4818e32d",
   "metadata": {},
   "source": [
    "# Thank you"
   ]
  },
  {
   "cell_type": "code",
   "execution_count": null,
   "id": "dc4d655d",
   "metadata": {},
   "outputs": [],
   "source": []
  },
  {
   "cell_type": "code",
   "execution_count": null,
   "id": "980edd43",
   "metadata": {},
   "outputs": [],
   "source": []
  },
  {
   "cell_type": "code",
   "execution_count": null,
   "id": "17847f44",
   "metadata": {},
   "outputs": [],
   "source": []
  },
  {
   "cell_type": "code",
   "execution_count": null,
   "id": "0eb51b84",
   "metadata": {},
   "outputs": [],
   "source": []
  },
  {
   "cell_type": "code",
   "execution_count": null,
   "id": "3f3e8065",
   "metadata": {},
   "outputs": [],
   "source": []
  },
  {
   "cell_type": "code",
   "execution_count": null,
   "id": "7269bfeb",
   "metadata": {},
   "outputs": [],
   "source": []
  },
  {
   "cell_type": "code",
   "execution_count": null,
   "id": "34d56285",
   "metadata": {},
   "outputs": [],
   "source": []
  },
  {
   "cell_type": "code",
   "execution_count": null,
   "id": "ac2f0c0e",
   "metadata": {},
   "outputs": [],
   "source": []
  },
  {
   "cell_type": "code",
   "execution_count": null,
   "id": "adf2bc3d",
   "metadata": {},
   "outputs": [],
   "source": []
  },
  {
   "cell_type": "code",
   "execution_count": null,
   "id": "f21ded85",
   "metadata": {},
   "outputs": [],
   "source": []
  },
  {
   "cell_type": "code",
   "execution_count": null,
   "id": "9cb75b30",
   "metadata": {},
   "outputs": [],
   "source": []
  },
  {
   "cell_type": "code",
   "execution_count": null,
   "id": "c828e65a",
   "metadata": {},
   "outputs": [],
   "source": []
  },
  {
   "cell_type": "code",
   "execution_count": null,
   "id": "a5a8b904",
   "metadata": {},
   "outputs": [],
   "source": []
  },
  {
   "cell_type": "code",
   "execution_count": null,
   "id": "85e968b1",
   "metadata": {},
   "outputs": [],
   "source": []
  },
  {
   "cell_type": "code",
   "execution_count": null,
   "id": "8e3e494e",
   "metadata": {},
   "outputs": [],
   "source": []
  },
  {
   "cell_type": "code",
   "execution_count": null,
   "id": "edb3f189",
   "metadata": {},
   "outputs": [],
   "source": []
  },
  {
   "cell_type": "code",
   "execution_count": null,
   "id": "b6c3f4f7",
   "metadata": {},
   "outputs": [],
   "source": []
  },
  {
   "cell_type": "code",
   "execution_count": null,
   "id": "a5055439",
   "metadata": {},
   "outputs": [],
   "source": []
  },
  {
   "cell_type": "code",
   "execution_count": null,
   "id": "e60e9eb5",
   "metadata": {},
   "outputs": [],
   "source": []
  },
  {
   "cell_type": "code",
   "execution_count": null,
   "id": "ee9bf020",
   "metadata": {},
   "outputs": [],
   "source": []
  },
  {
   "cell_type": "code",
   "execution_count": null,
   "id": "00f555af",
   "metadata": {},
   "outputs": [],
   "source": []
  },
  {
   "cell_type": "code",
   "execution_count": null,
   "id": "98aca1c5",
   "metadata": {},
   "outputs": [],
   "source": []
  },
  {
   "cell_type": "code",
   "execution_count": null,
   "id": "1c5c722b",
   "metadata": {},
   "outputs": [],
   "source": []
  },
  {
   "cell_type": "code",
   "execution_count": null,
   "id": "a5a5e2d2",
   "metadata": {},
   "outputs": [],
   "source": []
  },
  {
   "cell_type": "code",
   "execution_count": null,
   "id": "3a325300",
   "metadata": {},
   "outputs": [],
   "source": []
  },
  {
   "cell_type": "code",
   "execution_count": null,
   "id": "cc274e76",
   "metadata": {},
   "outputs": [],
   "source": []
  },
  {
   "cell_type": "code",
   "execution_count": null,
   "id": "54877162",
   "metadata": {},
   "outputs": [],
   "source": []
  },
  {
   "cell_type": "code",
   "execution_count": null,
   "id": "c69e9892",
   "metadata": {},
   "outputs": [],
   "source": []
  },
  {
   "cell_type": "code",
   "execution_count": null,
   "id": "2e4eeabf",
   "metadata": {},
   "outputs": [],
   "source": []
  },
  {
   "cell_type": "code",
   "execution_count": null,
   "id": "f6c18fec",
   "metadata": {},
   "outputs": [],
   "source": []
  },
  {
   "cell_type": "code",
   "execution_count": null,
   "id": "5ca4403e",
   "metadata": {},
   "outputs": [],
   "source": []
  },
  {
   "cell_type": "code",
   "execution_count": null,
   "id": "02dfd833",
   "metadata": {},
   "outputs": [],
   "source": []
  },
  {
   "cell_type": "code",
   "execution_count": null,
   "id": "b15aab2c",
   "metadata": {},
   "outputs": [],
   "source": []
  },
  {
   "cell_type": "code",
   "execution_count": null,
   "id": "74837e59",
   "metadata": {},
   "outputs": [],
   "source": []
  },
  {
   "cell_type": "code",
   "execution_count": null,
   "id": "1f7b7bf7",
   "metadata": {},
   "outputs": [],
   "source": []
  },
  {
   "cell_type": "code",
   "execution_count": null,
   "id": "a8b741d0",
   "metadata": {},
   "outputs": [],
   "source": []
  },
  {
   "cell_type": "code",
   "execution_count": null,
   "id": "d403d228",
   "metadata": {},
   "outputs": [],
   "source": []
  }
 ],
 "metadata": {
  "kernelspec": {
   "display_name": "Python 3 (ipykernel)",
   "language": "python",
   "name": "python3"
  },
  "language_info": {
   "codemirror_mode": {
    "name": "ipython",
    "version": 3
   },
   "file_extension": ".py",
   "mimetype": "text/x-python",
   "name": "python",
   "nbconvert_exporter": "python",
   "pygments_lexer": "ipython3",
   "version": "3.9.12"
  }
 },
 "nbformat": 4,
 "nbformat_minor": 5
}
